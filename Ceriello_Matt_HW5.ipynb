{
 "cells": [
  {
   "cell_type": "markdown",
   "metadata": {},
   "source": [
    "#### <a id='top'></a>\n",
    "\n",
    "# Homework 5: Distributions\n",
    "***\n",
    "\n",
    "**Name**: Matt Ceriello\n",
    "\n",
    "***\n",
    "\n",
    "This assignment is due on Canvas by **MIDNIGHT on Monday October 19**. Your solutions to theoretical questions should be done in Markdown directly below the associated question.  Your solutions to computational questions should include any specified Python code and results as well as written commentary on your conclusions.  Remember that you are encouraged to discuss the problems with your classmates, but **you must write all code and solutions on your own**.\n",
    "\n",
    "**NOTES**: \n",
    "\n",
    "- Any relevant data sets should be available under the **Data** module on Canvas. To make life easier on the graders if they need to run your code, do not change the relative path names here. Instead, move the files around on your computer.\n",
    "- If you're not familiar with typesetting math directly into Markdown then by all means, do your work on paper first and then typeset it later.  Remember that there is a [reference guide](https://math.meta.stackexchange.com/questions/5020/mathjax-basic-tutorial-and-quick-reference) linked on Canvas on writing math in Markdown. **All** of your written commentary, justifications and mathematical work should be in Markdown.\n",
    "- Because you can technically evaluate notebook cells is a non-linear order, it's a good idea to do Kernel $\\rightarrow$ Restart & Run All as a check before submitting your solutions.  That way if we need to run your code you will know that it will work as expected. \n",
    "- It is **bad form** to make your reader interpret numerical output from your code.  If a question asks you to compute some value from the data you should show your code output **AND** write a summary of the results in Markdown directly below your code. \n",
    "- 95 points of this assignment are in problems.  The remaining 5 are for neatness, style, and overall exposition of both code and text.\n",
    "- This probably goes without saying, but... For any question that asks you to calculate something, you **must show all work and justify your answers to receive credit**. Sparse or nonexistent work will receive sparse or nonexistent credit. \n",
    "\n",
    "---\n",
    "**Shortcuts:**  [Problem 1](#p1) | [Problem 2](#p2) | [Problem 3](#p3) |\n",
    "\n",
    "---"
   ]
  },
  {
   "cell_type": "code",
   "execution_count": 1,
   "metadata": {},
   "outputs": [],
   "source": [
    "import pandas as pd\n",
    "import numpy as np\n",
    "import matplotlib.pylab as plt\n",
    "from scipy.stats import norm\n",
    "import random\n",
    "%matplotlib inline"
   ]
  },
  {
   "cell_type": "markdown",
   "metadata": {},
   "source": [
    "***\n",
    "<a/ id='p1'></a>\n",
    "[Back to top](#top)\n",
    "\n",
    "## (30 pts) Problem 1: Theory (Continuous Distributions)\n",
    "***\n",
    "\n",
    "Suppose you are modeling the probability of observing various levels of cuteness in hedgehogs you encounter.  Let $X$ be a random variable representing the observed cuteness, which is *obviously* nonnegative and has units of deci*awws*. You decide to use the following pdf for $X$:\n",
    "\n",
    "$$\n",
    "f(x) = \\begin{cases}\n",
    "         c \\frac{1}{x^2} & =1 \\leq x < \\infty \\\\\n",
    "         0                           & \\text{otherwise}\n",
    "       \\end{cases}\n",
    "$$\n",
    "where $c$ is some normalizing constant.\n",
    "\n",
    "**Part A**: Determine the value of $c$ such that $f(x)$ is a valid probability density function. Then, make a plot of the probability density function for hedgehog cuteness, $f(x)$. Be sure to label your axes!"
   ]
  },
  {
   "cell_type": "markdown",
   "metadata": {},
   "source": [
    "**SOL:** A function is considered a valid PDF if for all x values the function is positive and the area under the curve is equal to 1. \n",
    "\n",
    "$1 = \\int_1^{\\infty} c*\\frac{1}{x^2}$\n",
    "\n",
    "$ = c*\\int_1^{\\infty} \\frac{1}{x^2} $\n",
    "\n",
    "\n",
    "$ = c* [\\frac{-1}{x}] \\big|_1^{\\infty}$\n",
    "\n",
    "$1 = c* 1 $ \n",
    "\n",
    "In order to keep the area of the function under 1, we can set $c = 1$."
   ]
  },
  {
   "cell_type": "code",
   "execution_count": 2,
   "metadata": {},
   "outputs": [
    {
     "data": {
      "image/png": "[encoded data removed]",
      "text/plain": [
       "<Figure size 432x288 with 1 Axes>"
      ]
     },
     "metadata": {},
     "output_type": "display_data"
    },
    {
     "name": "stdout",
     "output_type": "stream",
     "text": [
      "This graph gives us a sense of the PDF if we were to extend the x axis to infinity.\n"
     ]
    }
   ],
   "source": [
    "x = np.linspace(1,10,1000)\n",
    "y = 1/(x**2)\n",
    "fig = plt.figure()\n",
    "ax = fig.add_subplot(1, 1, 1)\n",
    "ax.xaxis.set_ticks_position('bottom')\n",
    "ax.yaxis.set_ticks_position('left')\n",
    "\n",
    "plt.plot(x,y, 'r')\n",
    "plt.ylabel(\"Density\")\n",
    "plt.xlabel(\"Cuteness\")\n",
    "\n",
    "plt.show()\n",
    "print(\"This graph gives us a sense of the PDF if we were to extend the x axis to infinity.\")\n",
    "\n"
   ]
  },
  {
   "cell_type": "markdown",
   "metadata": {},
   "source": [
    "**Part B**: Compute *by hand* the cumulative density (cdf) function $F(x)$ for $X$."
   ]
  },
  {
   "cell_type": "markdown",
   "metadata": {},
   "source": [
    "In order to convert our pdf to cdf, we need to take the integral of the pdf. Since our function is an improper integral, we need to take the limit as some variable apporaches infinity.\n",
    "\n",
    "\n",
    "F(x) = $\\int_1^{\\infty} \\frac{1}{x^2}$\n",
    "\n",
    "We want to take the integral from $-\\infty$ to X, \n",
    "$$F(x) = \\int_{-\\infty}^{X} \\frac{1}{y^2}$$\n",
    "\n",
    "We go from 1 to x because our pdf goes from 1 to infinity.\n",
    "$$ = \\int_{1}^{X} \\frac{1}{y^2}$$\n",
    "\n",
    "$$[-\\frac{1}{y}] \\big|_1^{X}$$\n",
    "\n",
    "$$F(x) = -\\frac{1}{x} +1$$"
   ]
  },
  {
   "cell_type": "markdown",
   "metadata": {},
   "source": [
    "**Part C:**  Use the cdf you derived in **Part B** to calculate the median ($\\tilde{x}$) cuteness of all hedgehogs."
   ]
  },
  {
   "cell_type": "markdown",
   "metadata": {},
   "source": [
    "For this, we want to find x where $F(x) = .5$\n",
    "\n",
    "So,\n",
    "$$\\frac{1}{2} = -\\frac{1}{x} +1$$\n",
    "\n",
    "$$-\\frac{1}{2} = -\\frac{1}{x}  $$\n",
    "\n",
    "$$x = 2 $$"
   ]
  },
  {
   "cell_type": "markdown",
   "metadata": {},
   "source": [
    "**Part D**: It is a well-known fact that any hedgehog whose cuteness exceeds 2.5 deciawws is **totes adorbz**. Use the cdf you computed in **Part B** to find the probability that any arbitrary hedgehog that you observe is totes adorbz."
   ]
  },
  {
   "cell_type": "markdown",
   "metadata": {},
   "source": [
    "For this problem, we can find the answer by calculating $1 - P(X<2.5)$\n",
    "\n",
    "$$1-F(2.5)$$\n",
    "$$ = 1- (-\\frac{1}{2.5}+1) $$\n",
    "\n",
    "$$ = 1- (.6) $$\n",
    "\n",
    "$$=\\textbf{.4} $$"
   ]
  },
  {
   "cell_type": "markdown",
   "metadata": {},
   "source": [
    "**Part E:** You have been painstakingly collecting data on hedgehogs all over town, and the cuteness is damn near overwhelming. Suppose you sample 5 hedgehogs, and the cuteness of any given hedgehog is independent of the cuteness of all other hedgehogs. What is the probability that more than half of them are totes adorbz? Keep at least 5 decimal places in your answer."
   ]
  },
  {
   "cell_type": "markdown",
   "metadata": {},
   "source": [
    "Since we are looking for at least 3 out of the 5 hedgehogs to be totes adorbz, we can calculate P(3 or 4 or 5). \n",
    "Since we found the prob of any arbitrary hedgehog being totez adorbz, we can use that answer for our calculations.\n",
    "\n",
    "P(3 or 4 or 5) = $$.4^3 + .4^4 + .4^5 = .09984$$"
   ]
  },
  {
   "cell_type": "markdown",
   "metadata": {},
   "source": [
    "***\n",
    "<a/ id='p2'></a>\n",
    "[Back to top](#top)\n",
    "\n",
    "## (30 pts) Problem 2: Theory (Named Distributions)\n",
    "***\n",
    "Person $X$ is waiting at a bus stop where the bus arrives *exactly* every ten minutes. Person Y is at a different stop, waiting for a bus that arrives *on average* every 8 minutes. Neither person knows how long ago the last bus arrived, and the arrival time of one bus is not dependent on the other bus.\n",
    "\n",
    "\n",
    "Answer the problems below assuming the wait time for person $Y$ follows an exponential distribution and the wait time for person $X$ follows a uniform distribution.\n",
    "\n",
    "**Part A**: What are the values of the parameters of the uniform distribution for person X?"
   ]
  },
  {
   "cell_type": "markdown",
   "metadata": {},
   "source": [
    "Uniform distribution comes in the form U~(a,b). For person X, $$a=0,b=10$$\n",
    "\n",
    "PDF of x: $f(x) =\\frac{1}{b-a} =\\frac{1}{10}$"
   ]
  },
  {
   "cell_type": "markdown",
   "metadata": {},
   "source": [
    "**Part B**: What are the values of the parameters of the exponential distribution for person Y ?\n"
   ]
  },
  {
   "cell_type": "markdown",
   "metadata": {},
   "source": [
    "For person Y, $\\lambda = \\frac{1}{8}$ because 1 bus shows up on average evry 8 minutes.\n",
    "\n",
    "PDF of y: f(y) = $\\lambda*e^{\\lambda *x} = \\frac{1}{8}*e^{\\frac{1}{8}*x}$"
   ]
  },
  {
   "cell_type": "markdown",
   "metadata": {},
   "source": [
    "**Part C**: Let $Z$ be defined as the total amount of time both people (combined) wait.  What are $E[Z]$ and $Var[Z]$?"
   ]
  },
  {
   "cell_type": "markdown",
   "metadata": {},
   "source": [
    "$$Z = X + Y$$\n",
    "\n",
    "$$E[Z] = E[X] + E[Y]$$\n",
    "\n",
    "$$E[X] = \\frac{10-0}{2} = 5 $$\n",
    "\n",
    "\n",
    "Since 8 is our $\\theta$, $E[Y] = 8$ \n",
    "$$E[Y] = \\int_{0}^{\\infty} x(\\frac{1}{8}e^{-\\frac{1}{8}x})= 8$$\n",
    "\n",
    "$$E[Z] = 5 + 8 = \\textbf{13}$$\n",
    " \n",
    "\n",
    "\n",
    "\n",
    "\n",
    "Now,\n",
    "$$Var[Z] = Var[X] + Var[Y]$$\n",
    "\n",
    "$$Var[X] = \\frac{(b-a)^2}{12} = \\frac{100}{12}$$\n",
    "\n",
    "$$Var[Y] = \\Theta^2 = 64$$\n",
    "\n",
    "\n",
    "$$Var[Z] = \\frac{100}{12} + 64 = \\textbf{72.3333...}$$"
   ]
  },
  {
   "cell_type": "markdown",
   "metadata": {},
   "source": [
    "**Part D**: What is the exact probability both people wait more than 4 minutes?\n"
   ]
  },
  {
   "cell_type": "markdown",
   "metadata": {},
   "source": [
    "What we are trying to find here is $$P(X>4)*P(Y>4)$$\n",
    "\n",
    "$$P(X>4) = \\int_4^{10}f(x)dx= \\frac{1}{10}\\int_4^{10}dx $$\n",
    "\n",
    "$$P(X>4) =\\frac{1}{10}[x] \\big|_4^{10} = \\frac{10-4}{10} = .6$$\n",
    "\n",
    "Now, \n",
    "$$P(Y>4)= \\int_4^{\\infty}f(y)dy = \\int_4^{\\infty}\\frac{1}{8}e^{\\frac{-y}{8}}  $$\n",
    "\n",
    "$$=\\frac{1}{8}[\\frac{e^\\frac{-y}{8}}{\\frac{-1}{8}}]\\big|_4^{\\infty}= .60653 $$\n",
    "\n",
    "So,\n",
    "$$P(X>4)*P(Y>4) = .6*.60653 = \\textbf{.363918}$$"
   ]
  },
  {
   "cell_type": "markdown",
   "metadata": {},
   "source": [
    "***\n",
    "<a/ id='p3'></a>\n",
    "[Back to top](#top)\n",
    "\n",
    "## (35 pts) Problem 3: Simulation and Theory (Games)\n",
    "***\n",
    "\n",
    "The Riddler is a column on the website https://fivethirtyeight.com that posts logic, math, and probability puzzles each week.  Some of puzzles can be attacked by simulation and discrete probability: things that we have the tools to solve!\n",
    "\n",
    "(https://fivethirtyeight.com/features/how-low-can-you-roll/)\n",
    "\n",
    "You are given a fair, unweighted 10-sided die with sides labeled 0 to 9 and a sheet of paper to record your score. (If the very notion of a fair 10-sided die bothers you, and you need to know what sort of three-dimensional solid it is, then forget it — you have a random number generator that gives you an integer value from 0 to 9 with equal probability. Your loss — the die was a collector’s item.)\n",
    "\n",
    "To start the game, you roll the die. Your current “score” is the number shown, divided by 10. For example, if you were to roll a 7, then your score would be 0.7. Then, you keep rolling the die over and over again. Each time you roll, if the digit shown by the die is less than or equal to the last digit of your score, then that roll becomes the new last digit of your score. Otherwise you just go ahead and roll again. The game ends when you roll a zero.\n",
    "\n",
    "For example, suppose you roll the following: 6, 2, 5, 1, 8, 1, 0. After your first roll, your score would be 0.6, After the second, it’s 0.62. You ignore the third roll, since 5 is greater than the current last digit, 2. After the fourth roll, your score is 0.621. You ignore the fifth roll, since 8 is greater than the current last digit, 1. After the sixth roll, your score is 0.6211. And after the seventh roll, the game is over — 0.6211 is your final score.\n",
    "\n",
    "What will be your average final score in this game?\n",
    "\n",
    "**Part A**: Suppose our current value is $0.abcd$ for some 1-9 integers $a, b, c, d.$  What is the theoretical distribution of $e$, the next *term* in the final score's decimal representation?  Name the distribution and list all of its outcomes and their probabilities.  Note that \"there are no additional terms\" should have non-zero probability."
   ]
  },
  {
   "cell_type": "markdown",
   "metadata": {},
   "source": [
    "The distribution for e will be uniform. The possible outcomes are 0-9 with a $\\frac{1}{10}$ chance of landing on any given side."
   ]
  },
  {
   "cell_type": "markdown",
   "metadata": {},
   "source": [
    "**Part B**: What is the expected number of *rolls* until you're done?  What distribution is this?\n",
    "\n"
   ]
  },
  {
   "cell_type": "markdown",
   "metadata": {},
   "source": [
    "Since you have a probability of .1 of rolling a 0 and ending the game, we can calculate the expected number of rolls by doing $\\frac{1}{.1}$ which equals $\\textbf{10}$. This is known as geometric distribution."
   ]
  },
  {
   "cell_type": "markdown",
   "metadata": {},
   "source": [
    "**Part C**: Simulate 10000 trials of this game, recording a score for each, then compute and print the average score over all of those trials. \n",
    "\n",
    "(Note: To check your result, you can find the exact *expected* solution in the following week's column: https://fivethirtyeight.com/features/can-you-decode-the-riddler-lottery/... but we want to simulate!)\n"
   ]
  },
  {
   "cell_type": "code",
   "execution_count": 3,
   "metadata": {},
   "outputs": [
    {
     "name": "stdout",
     "output_type": "stream",
     "text": [
      "The average score is 0.4758544296690364\n"
     ]
    }
   ],
   "source": [
    "trials = [] \n",
    "def roll():\n",
    "    flag = True\n",
    "    r = 0\n",
    "    num = random.randint(0,9)\n",
    "    r += 1\n",
    "    d = 10\n",
    "    val = num/10\n",
    "    playnum = round(val, 1)\n",
    "    if playnum == 0:\n",
    "        flag = False\n",
    "    while flag is True:\n",
    "        num = random.randint(0,9)\n",
    "        inspect = (playnum * d) % 10\n",
    "        if num == 0:\n",
    "            flag = False\n",
    "        elif num > inspect:\n",
    "            playnum = playnum\n",
    "        else:\n",
    "            r += 1\n",
    "            d *= 10\n",
    "            val = num/d\n",
    "            playnumber = round(val, r)\n",
    "            playnum += playnumber\n",
    "    round(playnum, r)\n",
    "    ret = round(playnum, r)\n",
    "    return ret\n",
    "\n",
    "total = 0\n",
    "for x in range(10000):\n",
    "    n = roll()\n",
    "    total += n \n",
    "    trials.append(n)\n",
    "    \n",
    "avg = total/10000\n",
    "\n",
    "print(\"The average score is\", avg)\n"
   ]
  },
  {
   "cell_type": "markdown",
   "metadata": {},
   "source": [
    "**Part D**: Make a histogram of all your scores from part C, and include a vertical line placed at the mean score from part C."
   ]
  },
  {
   "cell_type": "code",
   "execution_count": 4,
   "metadata": {},
   "outputs": [
    {
     "data": {
      "image/png": "[encoded data removed]",
      "text/plain": [
       "<Figure size 432x288 with 1 Axes>"
      ]
     },
     "metadata": {},
     "output_type": "display_data"
    }
   ],
   "source": [
    "plt.hist(trials, bins = 100)\n",
    "plt.vlines(avg,0,1000, colors = 'red')\n",
    "plt.show()"
   ]
  }
 ],
 "metadata": {
  "kernelspec": {
   "display_name": "Python 3",
   "language": "python",
   "name": "python3"
  },
  "language_info": {
   "codemirror_mode": {
    "name": "ipython",
    "version": 3
   },
   "file_extension": ".py",
   "mimetype": "text/x-python",
   "name": "python",
   "nbconvert_exporter": "python",
   "pygments_lexer": "ipython3",
   "version": "3.6.5"
  }
 },
 "nbformat": 4,
 "nbformat_minor": 2
}
