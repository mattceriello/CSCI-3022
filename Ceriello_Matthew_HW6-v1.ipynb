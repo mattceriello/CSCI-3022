{
 "cells": [
  {
   "cell_type": "markdown",
   "metadata": {},
   "source": [
    "<a id='top'></a>\n",
    "\n",
    "# CSCI3022 F20\n",
    "# Homework 6: Confidence Intervals\n",
    "***\n",
    "\n",
    "**Name**: Matt Ceriello\n",
    "\n",
    "***\n",
    "\n",
    "This assignment is due on Canvas by **MIDNIGHT on Monday November 2**. Your solutions to theoretical questions should be done in Markdown directly below the associated question.  Your solutions to computational questions should include any specified Python code and results as well as written commentary on your conclusions.  Remember that you are encouraged to discuss the problems with your classmates, but **you must write all code and solutions on your own**.\n",
    "\n",
    "**NOTES**: \n",
    "\n",
    "- Any relevant data sets should be available under the **Data** module on Canvas, as well as in the zipped folder in which you obtained this assignment. \n",
    "- Do **NOT** load or use any Python packages that are not available in Anaconda 3.6. \n",
    "- Because you can technically evaluate notebook cells in a non-linear order, it's a good idea to do Kernel $\\rightarrow$ Restart & Run All as a check before submitting your solutions.  That way if we need to run your code you will know that it will work as expected. \n",
    "- It is **bad form** to make your reader interpret numerical output from your code.  If a question asks you to compute some value from the data you should show your code output **AND** write a summary of the results in Markdown directly below your code. \n",
    "- You **MUST** leave all of your notebook cells **evaluated** so the graders do not need to re-evaluate them. For 100+ students, this extra time adds up, and makes the graders' lives unnecessarily more difficult.\n",
    "- This probably goes without saying, but... For any question that asks you to calculate something, you **must show all work and justify your answers to receive credit**. Sparse or nonexistent work will receive sparse or nonexistent credit. \n",
    "- Submit only this Jupyter notebook to Canvas.  Do not compress it using tar, rar, zip, etc. \n",
    "\n",
    "---\n",
    "**Shortcuts:**  [Problem 1](#p1) | [Problem 2](#p2) | [Problem 3](#p3) | \n",
    "---"
   ]
  },
  {
   "cell_type": "code",
   "execution_count": 1,
   "metadata": {
    "scrolled": true
   },
   "outputs": [],
   "source": [
    "import numpy as np\n",
    "import math\n",
    "import scipy.stats as stats\n",
    "from scipy.stats import norm\n",
    "import matplotlib.pyplot as plt\n",
    "import pandas as pd\n",
    "import random\n",
    "import math\n",
    "%matplotlib inline"
   ]
  },
  {
   "cell_type": "markdown",
   "metadata": {},
   "source": [
    "<br>\n",
    "\n",
    "---\n",
    "<a/ id='p2'></a>\n",
    "[Back to top](#top)\n",
    "## [20 points] Problem 1 - Random Samples from ANYWHERE\n",
    "\n",
    "\n",
    "In notebook 12, we looked at one method many pieces of statistical software use to turn pseudorandom numbers coming from the $U(0,1)$ distribution into those with a normal distribution.  In this problem we examine another such method.\n",
    "\n",
    "### a) Simulating an Exponential\n",
    "#### i ) The exponential distribution has pdf $f(x)= \\lambda e^{-\\lambda x}$ for $x\\ge 0$.  Use the following markdown cell to compute by hand the cdf of the exponential."
   ]
  },
  {
   "cell_type": "markdown",
   "metadata": {},
   "source": [
    "$$\\int_0^{\\infty}\\gamma*e^{-\\gamma*x} $$ \n",
    "$$= \\gamma \\int_0^{X}e^{-\\gamma*x} $$ \n",
    "$$=\\gamma [\\frac{e^{-\\gamma *x}}{-\\gamma}]\\big|_0^{X} $$\n",
    "$$=-[e^{-\\gamma *x}]\\big|_0^{X} $$\n",
    "$$= -[e^{-\\gamma *x} - 1]  $$\n",
    "$$F(x) = 1 - e^{-\\gamma *x}$$"
   ]
  },
  {
   "cell_type": "markdown",
   "metadata": {},
   "source": [
    "#### ii) The cdf is a function that takes x-values (or times, in the case of the exponential) and returns probabilities as the y-values.  Specifically, it returns the probability $P(X \\leq x)$.  Find the *inverse* of this function, that takes as input probabilities and outputs times."
   ]
  },
  {
   "cell_type": "markdown",
   "metadata": {},
   "source": [
    "To do this, we can swap x and y and solve for y.\n",
    "So,\n",
    "$$x = 1-e^{-\\gamma*y} $$\n",
    "$$x-1 = -e^{-\\gamma*y} $$\n",
    "$$1-x = e^{-\\gamma*y} $$\n",
    "We can use natural log to remove the e.\n",
    "$$\\ln(1-x)= -\\gamma*y $$\n",
    "$$\\frac{\\ln(1-x)}{-\\gamma} = y $$\n",
    "$$F^{-1}(y) = \\frac{\\ln(1-x)}{-\\gamma}  $$"
   ]
  },
  {
   "cell_type": "markdown",
   "metadata": {},
   "source": [
    "\n",
    "#### iii) Simulate 1000 random $U(0,1)$ variables.  Since these are numbers in $[0,1]$, we could think of them as random *probabilities*.  Plug them into the function you found in ii), then plot a histogram of the results.  Overlay the theoretical density of the exponential.  For each of these, use $\\lambda=1/4$."
   ]
  },
  {
   "cell_type": "code",
   "execution_count": 2,
   "metadata": {},
   "outputs": [
    {
     "data": {
      "image/png": "[encoded data removed]",
      "text/plain": [
       "<Figure size 576x288 with 1 Axes>"
      ]
     },
     "metadata": {},
     "output_type": "display_data"
    }
   ],
   "source": [
    "yvals = []\n",
    "for y in range(0,999):\n",
    "    x = random.random()\n",
    "    lg = math.log(1-x)\n",
    "    v= (-4*lg)\n",
    "    yvals.append(v)\n",
    "    \n",
    "\n",
    "fig, ax = plt.subplots(figsize=(8,4))\n",
    "plt.hist(yvals, bins = 30 ,density=True)\n",
    "x = np.linspace(0,30,1000)\n",
    "y = .25*(np.e**(-0.25 * x))\n",
    "plt.plot(x,y,'r')\n",
    "plt.show()"
   ]
  },
  {
   "cell_type": "markdown",
   "metadata": {},
   "source": [
    "### b) Simulating a new distribution\n",
    "#### i) Consider a continuous random variable given by $f(x)=cos(x)$ for $x \\in [0, \\pi/2]$.  Find the cdf and inverse cdf of X."
   ]
  },
  {
   "cell_type": "markdown",
   "metadata": {},
   "source": [
    "$$\\int_0^{\\frac{\\pi}{2}}cos(x) $$ \n",
    "$$\\int_0^X cos(x) $$ \n",
    "$$= [sin(x)]\\big|_0^{X} $$\n",
    "$$ F(x) = sin(x) $$\n",
    "\n",
    "The inverse of the CDF is arcsin(x)."
   ]
  },
  {
   "cell_type": "markdown",
   "metadata": {},
   "source": [
    "\n",
    "#### ii) Simulate draws from X by simulating 1000 $U[0,1]$ random variables and plugging them into the inverse cdf in i).  As in part a), plot a histogram of the random variables against their density function."
   ]
  },
  {
   "cell_type": "code",
   "execution_count": 3,
   "metadata": {},
   "outputs": [
    {
     "data": {
      "image/png": "[encoded data removed]",
      "text/plain": [
       "<Figure size 576x288 with 1 Axes>"
      ]
     },
     "metadata": {},
     "output_type": "display_data"
    }
   ],
   "source": [
    "yvals = []\n",
    "for y in range(0,9999):\n",
    "    x = random.random()\n",
    "    v= math.asin(x)\n",
    "    yvals.append(v)\n",
    "    \n",
    "\n",
    "fig, ax = plt.subplots(figsize=(8,4))\n",
    "plt.hist(yvals, bins = 50 , density=True)\n",
    "\n",
    "x = np.linspace(0,math.pi/2,10000)\n",
    "y = np.cos(x)\n",
    "plt.plot(x,y,'r')\n",
    "plt.show()"
   ]
  },
  {
   "cell_type": "markdown",
   "metadata": {},
   "source": [
    "### c) Backwards Normals\n",
    "\n",
    "The process we're following could be summarized as follows, referencing functions we know for many distributions:\n",
    "\n",
    "- Sample from U(0,1)\n",
    "- Plug those samples each into the .ppf (\"Percentile Point Function,\" or inverse of the CDF) for the random variable.\n",
    "- Save the output\n",
    "\n",
    "Now, follow this process for normal random variables.  Sample 1000 random normal variables using `norm.rvs` and then generate 100 random normal variable by transforming 1000 random variables from their `norm.ppfs`.  Plot both samples in an overlapping histogram."
   ]
  },
  {
   "cell_type": "code",
   "execution_count": 4,
   "metadata": {},
   "outputs": [
    {
     "data": {
      "image/png": "[encoded data removed]",
      "text/plain": [
       "<Figure size 576x576 with 1 Axes>"
      ]
     },
     "metadata": {},
     "output_type": "display_data"
    }
   ],
   "source": [
    "y1 = norm.rvs(size = 1000)\n",
    "y2 = pd.Series()\n",
    "y2 = norm.ppf(y1) \n",
    "y3 = pd.Series(y2)\n",
    "\n",
    "fig, ax = plt.subplots(figsize=(8,8))\n",
    "plt.hist(y1,bins = 15,alpha = .5,color=\"blue\", density = True);\n",
    "plt.hist(y3.dropna(),bins = 15,alpha = .5,color=\"green\", density = True);\n",
    "\n",
    "\n",
    "plt.show()"
   ]
  },
  {
   "cell_type": "markdown",
   "metadata": {},
   "source": [
    "### d) Generalizing\n",
    "\n",
    "Describe in words how this process might work on a discrete random variable.  It is optional but may be useful to use the Bernoulli as an example or implement this process in code."
   ]
  },
  {
   "cell_type": "markdown",
   "metadata": {},
   "source": []
  },
  {
   "cell_type": "markdown",
   "metadata": {},
   "source": [
    "This process would work the same given the random variable has somewhat of a normal distribution. For a Bernoulli Distribution, "
   ]
  },
  {
   "cell_type": "markdown",
   "metadata": {},
   "source": [
    "<br>\n",
    "\n",
    "---\n",
    "<a/ id='p2'></a>\n",
    "[Back to top](#top)\n",
    "## [20 points] Problem 2 - Exploring Confidence Intervals \n",
    "\n",
    "The [Gamma](https://en.wikipedia.org/wiki/Gamma_distribution) distribution is one of several distributions frequently used to model event times, as it's the sum of exponentials.  It can also be fairly asymmetric, and thus interesting for investigating confidence intervals.  It is implemented in scipy.stats as [gamma](https://docs.scipy.org/doc/scipy/reference/generated/scipy.stats.gamma.html).  (NB: check the links!)"
   ]
  },
  {
   "cell_type": "markdown",
   "metadata": {},
   "source": [
    "**Part A**: Complete the following code cell to plot a histogram of 100 realizations from the Gamma distribution with parameters $k=4$ (a) and $\\theta=10$ (scale).  Be sure to leave this cell executed before turning in your assignment! Make your histogram faces gray with blue edges."
   ]
  },
  {
   "cell_type": "code",
   "execution_count": 42,
   "metadata": {},
   "outputs": [
    {
     "data": {
      "image/png": "[encoded data removed]",
      "text/plain": [
       "<Figure size 576x288 with 1 Axes>"
      ]
     },
     "metadata": {},
     "output_type": "display_data"
    }
   ],
   "source": [
    "#GIVEN CODE (updated):\n",
    "k = 4\n",
    "theta = 10\n",
    "n_sample = 100\n",
    "x = stats.gamma.rvs(a=4, scale=10, size=100)\n",
    "\n",
    "\n",
    "\n",
    "fig, ax = plt.subplots(nrows=1, ncols=1, figsize=(8,4))\n",
    "# Your code goes here!\n",
    "plt.hist(x, color = \"gray\", edgecolor = \"blue\", density = True)\n",
    "plt.show()"
   ]
  },
  {
   "cell_type": "markdown",
   "metadata": {},
   "source": [
    "**Part B:** Look up the analytical mean and variance (from the documentation or wiki) of the Gamma distribution with parameters $k=4$ and $\\theta=10$ and calculate them here by hand.\n",
    "\n",
    "Use the empirical mean from your sample in **Part A**, and the true variance of the Gamma distribution to compute by hand a 95% confidence interval for the mean."
   ]
  },
  {
   "cell_type": "markdown",
   "metadata": {},
   "source": [
    "**Analytical Results in this cell.**"
   ]
  },
  {
   "cell_type": "code",
   "execution_count": 6,
   "metadata": {},
   "outputs": [
    {
     "name": "stdout",
     "output_type": "stream",
     "text": [
      "The mean is: 40.0\n",
      "The variance is: 400.0\n",
      "The upper bound is: 45.079828000000006\n",
      "The lower bound is: 36.478172\n",
      "Our CI: [ 36.478172 , 45.079828000000006 ]\n"
     ]
    }
   ],
   "source": [
    "#Your CI\n",
    "mean,var = stats.gamma.stats(a=4, scale=10)\n",
    "\n",
    "print(\"The mean is: \" + str(mean))\n",
    "print(\"The variance is: \" + str(var))\n",
    "\n",
    "\n",
    "upper = 40.779 + 1.96 * 21.943 / 10\n",
    "lower = 40.779 - 1.96 * 21.943 / 10\n",
    "\n",
    "print(\"The upper bound is: \" + str(upper))\n",
    "print(\"The lower bound is: \" + str(lower))\n",
    "\n",
    "print(\"Our CI: [\",lower,\",\",upper,\"]\" )"
   ]
  },
  {
   "cell_type": "markdown",
   "metadata": {},
   "source": [
    "**Part C:  A theoretical interlude.** When Lola, the famous Beagle data scientist, ran her solution code for **Part B**, she obtained a 95% confidence interval of $[38.5, 40.5]$ for the mean of the $Gamma(k=4, \\theta=10)$ distribution. For each of the following, explain why or why not the situation described is correct, given the technical definition of a 95% confidence interval we went over in class.\n",
    "\n",
    "**(i)** If you had no other evidence regarding true mean of the $Gamma(k=4, \\theta=10)$ distribution, you could say there is a 95% chance that its true mean falls between 38.5 and 40.5.\n",
    "\n",
    "**(ii)** If a class of 100 students all construct 95% confidence intervals for the mean of the $Gamma(k=4, \\theta=10)$ distribution, then we expect about 95 of their CIs to contain the true mean, and about 5 of them to miss the true mean.\n",
    "\n",
    "**(iii)** If we sample 100 random variables from the $Gamma(k=4, \\theta=10)$ distribution, then roughly 95% of them will be between 38.5 and 40.5."
   ]
  },
  {
   "cell_type": "markdown",
   "metadata": {
    "collapsed": true
   },
   "source": [
    "**Answer in this cell.**\n",
    "\n",
    "**(i): True** Since confidence interval measures location of the mean, we can say there is a 95% chance that its true mean falls between 38.5 and 40.5.\n",
    " \n",
    "**(ii): True** This is true becuase of the definition of a 95% confidence interval, we can say that we expect about 95 to hit\n",
    "\n",
    "**(iii): False** This is false because confidence intervals only measure the location of the mean, not all the data points."
   ]
  },
  {
   "cell_type": "markdown",
   "metadata": {},
   "source": [
    "**Part D:** In this part you'll write a function to investigate the _coverage properties_ of a confidence interval for the mean of the Gamma distribution. Complete the following function to randomly sample $m=500$ sample means with sample size $n=100$ for the Gamma distribution with parameters $k=4$ and $\\theta=10$.  For each random sample, compute the 66% confidence interval for the mean. Note that you actually know the variance for the true population distribution, $\\sigma^2$ from Part B.  Your function should do two things: \n",
    "\n",
    "1. Report the proportion of confidence intervals that successfully cover the true mean of the distribution \n",
    "2. Make a plot of 50 randomly selected confidence intervals. Overlay the intervals on the line $y=\\textrm{True mean}$ (from **Part B**). Color confidence intervals steelblue if they cover the true mean, and coral if they don't.  \n",
    "\n",
    "Be sure to leave this cell executed before turning in your assignment!"
   ]
  },
  {
   "cell_type": "code",
   "execution_count": 43,
   "metadata": {},
   "outputs": [
    {
     "name": "stdout",
     "output_type": "stream",
     "text": [
      "Proportion covering:  0.58\n"
     ]
    },
    {
     "data": {
      "image/png": "[encoded data removed]",
      "text/plain": [
       "<Figure size 864x432 with 1 Axes>"
      ]
     },
     "metadata": {},
     "output_type": "display_data"
    }
   ],
   "source": [
    "# GIVEN CODE:\n",
    "\n",
    "def confidence_intervals(m=500, n=100):\n",
    "    k = 4\n",
    "    theta = 10\n",
    "    mean,var = stats.gamma.stats(a=4, scale=10)\n",
    "    \n",
    "    # Your code goes here!\n",
    "    fig, ax = plt.subplots(nrows=1, ncols=1, figsize=(12,6))\n",
    "    \n",
    "    \n",
    "    ax.plot([0,50], [mean, mean], color=\"black\", ls='--', lw=3)\n",
    "    #Proportion covering\n",
    "    total = 0\n",
    "    cov = 0\n",
    "    #Plot of 50 such CIs\n",
    "    alpha = .66\n",
    "    for sId in range(50):\n",
    "        #x = stats.gamma(a=4, scale=10).rvs(size=100)\n",
    "        x = stats.gamma.rvs(a=4, scale=10, size=100)\n",
    "        xbar = np.mean(x)\n",
    "        se = np.std(x)/np.sqrt(n)\n",
    "        v = float((1-alpha)/2)\n",
    "        va = float(1-v)\n",
    "        cimin = xbar - va * se\n",
    "        cimax = xbar + va * se\n",
    "        if((cimax>= mean) and (cimin<= mean)):\n",
    "            plt.vlines(sId,cimin ,cimax, linestyles =\"solid\", colors =\"steelblue\") \n",
    "            cov+=1\n",
    "            total+=1\n",
    "        else:\n",
    "            plt.vlines(sId, cimin ,cimax, linestyles =\"solid\", colors =\"coral\")\n",
    "            total+=1\n",
    "        \n",
    "\n",
    "    plt.xticks(range(50), fontsize=8)\n",
    "    print(\"Proportion covering: \", cov/total)\n",
    "        \n",
    "confidence_intervals()"
   ]
  },
  {
   "cell_type": "markdown",
   "metadata": {},
   "source": [
    "**Part E:** Does the proportion of confidence intervals that cover the true mean of the distribution agree with the theory described in class?  Justify your conclusion. "
   ]
  },
  {
   "cell_type": "markdown",
   "metadata": {},
   "source": [
    "**Answer in this cell.**\n",
    "I say yes because from the graph we can see from running it a few times that we hit the true mean about 66% of the time."
   ]
  },
  {
   "cell_type": "markdown",
   "metadata": {},
   "source": [
    "---\n",
    "\n",
    "<a id='p3'></a>\n",
    "[Back to top](#top)\n",
    "\n",
    "### [20 points] Problem 3 - Lies, damned lies, and statistics\n",
    "\n",
    "![frazz](http://3.bp.blogspot.com/-SbQUWRfHFXk/VdN8YWAy0WI/AAAAAAAAJLw/Ij5E0CbYk6g/s1600/lies3.gif)\n",
    "\n",
    "Legend of your Data Science prowess has spread o'er the land. You have been contacted by a shadowy organization to assess whether there is statistical evidence for sea-level rise in the area of Honolulu, Hawaii. You obtain from the University of Hawaii Sea Level Center's [gigantic repository of sea-level data](https://uhslc.soest.hawaii.edu/data/?rq) the daily mean sea levels file included in the zip folder for this assignment. The columns are, in order, the year, month, day-of-month and measured sea level (in millimeters)."
   ]
  },
  {
   "cell_type": "markdown",
   "metadata": {},
   "source": [
    "**Part A:** Load the data `sealevel_honolulu.csv` into a Pandas DataFrame. Rename the columns as something meaningful in the context of this problem. Print to the screen the first 7 rows from your updated DataFrame."
   ]
  },
  {
   "cell_type": "code",
   "execution_count": 8,
   "metadata": {},
   "outputs": [
    {
     "data": {
      "text/html": [
       "<div>\n",
       "<style scoped>\n",
       "    .dataframe tbody tr th:only-of-type {\n",
       "        vertical-align: middle;\n",
       "    }\n",
       "\n",
       "    .dataframe tbody tr th {\n",
       "        vertical-align: top;\n",
       "    }\n",
       "\n",
       "    .dataframe thead th {\n",
       "        text-align: right;\n",
       "    }\n",
       "</style>\n",
       "<table border=\"1\" class=\"dataframe\">\n",
       "  <thead>\n",
       "    <tr style=\"text-align: right;\">\n",
       "      <th></th>\n",
       "      <th>Year</th>\n",
       "      <th>Month</th>\n",
       "      <th>Day</th>\n",
       "      <th>SeaLevelmm</th>\n",
       "    </tr>\n",
       "  </thead>\n",
       "  <tbody>\n",
       "    <tr>\n",
       "      <th>0</th>\n",
       "      <td>1905</td>\n",
       "      <td>1</td>\n",
       "      <td>3</td>\n",
       "      <td>1264</td>\n",
       "    </tr>\n",
       "    <tr>\n",
       "      <th>1</th>\n",
       "      <td>1905</td>\n",
       "      <td>1</td>\n",
       "      <td>4</td>\n",
       "      <td>1269</td>\n",
       "    </tr>\n",
       "    <tr>\n",
       "      <th>2</th>\n",
       "      <td>1905</td>\n",
       "      <td>1</td>\n",
       "      <td>5</td>\n",
       "      <td>1294</td>\n",
       "    </tr>\n",
       "    <tr>\n",
       "      <th>3</th>\n",
       "      <td>1905</td>\n",
       "      <td>1</td>\n",
       "      <td>6</td>\n",
       "      <td>1311</td>\n",
       "    </tr>\n",
       "    <tr>\n",
       "      <th>4</th>\n",
       "      <td>1905</td>\n",
       "      <td>1</td>\n",
       "      <td>7</td>\n",
       "      <td>1330</td>\n",
       "    </tr>\n",
       "    <tr>\n",
       "      <th>5</th>\n",
       "      <td>1905</td>\n",
       "      <td>1</td>\n",
       "      <td>8</td>\n",
       "      <td>1351</td>\n",
       "    </tr>\n",
       "    <tr>\n",
       "      <th>6</th>\n",
       "      <td>1905</td>\n",
       "      <td>1</td>\n",
       "      <td>9</td>\n",
       "      <td>1350</td>\n",
       "    </tr>\n",
       "  </tbody>\n",
       "</table>\n",
       "</div>"
      ],
      "text/plain": [
       "   Year  Month  Day  SeaLevelmm\n",
       "0  1905      1    3        1264\n",
       "1  1905      1    4        1269\n",
       "2  1905      1    5        1294\n",
       "3  1905      1    6        1311\n",
       "4  1905      1    7        1330\n",
       "5  1905      1    8        1351\n",
       "6  1905      1    9        1350"
      ]
     },
     "execution_count": 8,
     "metadata": {},
     "output_type": "execute_result"
    }
   ],
   "source": [
    "filepath = 'sealevel_honolulu.csv'\n",
    "df = pd.read_csv(filepath)\n",
    "df.columns = ['Year','Month','Day','SeaLevelmm'] \n",
    "df.head(7)"
   ]
  },
  {
   "cell_type": "markdown",
   "metadata": {},
   "source": [
    "**Part B:**  Plot the raw time series of sea levels. Be sure to label your axes, including units. For the $x$-axis, place the $x$ tick marks on January 2 of each year that is divisible by 10 (i.e., 1920, 1930, ...), and label with that year. You may need to do additional processing in order to grab these indices. "
   ]
  },
  {
   "cell_type": "code",
   "execution_count": 9,
   "metadata": {},
   "outputs": [
    {
     "data": {
      "image/png": "[encoded data removed]",
      "text/plain": [
       "<Figure size 576x288 with 1 Axes>"
      ]
     },
     "metadata": {},
     "output_type": "display_data"
    }
   ],
   "source": [
    "levels = []\n",
    "years = []\n",
    "for index, row in df.iterrows(): \n",
    "    levels.append(row['SeaLevelmm'])\n",
    "    years.append(row['Year'])\n",
    "\n",
    "fig, ax = plt.subplots(nrows=1, ncols=1, figsize=(8,4))\n",
    "plt.plot(years,levels)\n",
    "plt.xlabel('Years')\n",
    "plt.ylabel('SeaLevelmm')\n",
    "plt.show()"
   ]
  },
  {
   "cell_type": "markdown",
   "metadata": {},
   "source": [
    "**Part C:** Your time series plot from Part B should look pretty funky. Namely, there are a bunch of spikes in it! What do you think these spikes represent?\n",
    "\n",
    "Now, clean your data set by doing the following:\n",
    "* Remove any data points associated with these spikes. You may need to look back to some of the earlier in-class notebooks and Pandas tutorials for how to drop data points from a Pandas DataFrame. \n",
    "* Include only the data point from the second day of each month.\n",
    "* Convert the sea-level data from millimeters to feet.\n",
    "\n",
    "Then, make a similar plot to Part B, but of your cleaned data set. Be sure to label axes (including units) and only label January 2 of each year that is divisible by 10."
   ]
  },
  {
   "cell_type": "code",
   "execution_count": 10,
   "metadata": {},
   "outputs": [
    {
     "data": {
      "image/png": "[encoded data removed]",
      "text/plain": [
       "<Figure size 576x288 with 1 Axes>"
      ]
     },
     "metadata": {},
     "output_type": "display_data"
    }
   ],
   "source": [
    "df = df[df['SeaLevelmm'] >= 0]\n",
    "df = df[df['Day'] == 2]#I call df.head() and it shows me only Day == 2 not sure why plot doesnt work\n",
    "df[\"SeaLevelft\"] = df['SeaLevelmm'] / 305\n",
    "levels1 = []\n",
    "years1 = []\n",
    "fig, ax = plt.subplots(nrows=1, ncols=1, figsize=(8,4))\n",
    "plt.plot(df['Year'],df['SeaLevelft'])\n",
    "plt.xlabel('Years')\n",
    "plt.ylabel('SeaLevelft')\n",
    "plt.show()"
   ]
  },
  {
   "cell_type": "markdown",
   "metadata": {},
   "source": [
    "**Part D:** Your mysterious employer owns a lot of beachfront property in Hawaii and does not want to see people shy away from buying real estate and spending time near the sea. So, they really want to convince others to that the mean sea level in Honolulu in not increasing. Toward this end, your employer wants to find a decade of data (11 years, including both end points) that has a mean sea level which is not statistically significantly different from the mean sea level in the decade 2000-2010 (including data from both 2000 and 2010). Your employer wants you to use the 99% confidence/1% significance level because it sounds catchy in a press release, and wants the *earliest* decade possible.\n",
    "\n",
    "Use your cleaned monthly data set from Part C to find the earliest decade for which you cannot conclude the mean sea level at Key West was statistically significantly different from the mean sea level in the 2000-2010 decade. You may want to write a helper function to compute the confidence intervals/perform the hypothesis test for you, because there are a LOT of possible 11-year periods to try. (*NOTE: The decade start / end years don't have to end with a 0. For example, 2008 - 2018 is the latest \"decade\" that exists in our dataset.*)\n",
    "\n",
    "You may use either hypothesis tests or confidence intervals, but clearly state which method you will use, your results and show all work that leads to your conclusion. "
   ]
  },
  {
   "cell_type": "code",
   "execution_count": null,
   "metadata": {},
   "outputs": [],
   "source": []
  }
 ],
 "metadata": {
  "kernelspec": {
   "display_name": "Python 3",
   "language": "python",
   "name": "python3"
  },
  "language_info": {
   "codemirror_mode": {
    "name": "ipython",
    "version": 3
   },
   "file_extension": ".py",
   "mimetype": "text/x-python",
   "name": "python",
   "nbconvert_exporter": "python",
   "pygments_lexer": "ipython3",
   "version": "3.6.5"
  }
 },
 "nbformat": 4,
 "nbformat_minor": 2
}
