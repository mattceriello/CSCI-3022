{
 "cells": [
  {
   "cell_type": "markdown",
   "metadata": {},
   "source": [
    "<a id='top'></a>\n",
    "\n",
    "# CSCI3022 F20\n",
    "# Homework 6: Confidence Intervals\n",
    "***\n",
    "\n",
    "**Name**: ________________________________________________________________________\n",
    "\n",
    "***\n",
    "\n",
    "This assignment is due on Canvas by **MIDNIGHT on Monday November 2**. Your solutions to theoretical questions should be done in Markdown directly below the associated question.  Your solutions to computational questions should include any specified Python code and results as well as written commentary on your conclusions.  Remember that you are encouraged to discuss the problems with your classmates, but **you must write all code and solutions on your own**.\n",
    "\n",
    "**NOTES**: \n",
    "\n",
    "- Any relevant data sets should be available under the **Data** module on Canvas, as well as in the zipped folder in which you obtained this assignment. \n",
    "- Do **NOT** load or use any Python packages that are not available in Anaconda 3.6. \n",
    "- Because you can technically evaluate notebook cells in a non-linear order, it's a good idea to do Kernel $\\rightarrow$ Restart & Run All as a check before submitting your solutions.  That way if we need to run your code you will know that it will work as expected. \n",
    "- It is **bad form** to make your reader interpret numerical output from your code.  If a question asks you to compute some value from the data you should show your code output **AND** write a summary of the results in Markdown directly below your code. \n",
    "- You **MUST** leave all of your notebook cells **evaluated** so the graders do not need to re-evaluate them. For 100+ students, this extra time adds up, and makes the graders' lives unnecessarily more difficult.\n",
    "- This probably goes without saying, but... For any question that asks you to calculate something, you **must show all work and justify your answers to receive credit**. Sparse or nonexistent work will receive sparse or nonexistent credit. \n",
    "- Submit only this Jupyter notebook to Canvas.  Do not compress it using tar, rar, zip, etc. \n",
    "\n",
    "---\n",
    "**Shortcuts:**  [Problem 1](#p1) | [Problem 2](#p2) | [Problem 3](#p3) | \n",
    "---"
   ]
  },
  {
   "cell_type": "code",
   "execution_count": 2,
   "metadata": {
    "scrolled": true
   },
   "outputs": [],
   "source": [
    "import numpy as np\n",
    "import math\n",
    "import scipy.stats as stats\n",
    "import matplotlib.pyplot as plt\n",
    "import pandas as pd\n",
    "%matplotlib inline"
   ]
  },
  {
   "cell_type": "markdown",
   "metadata": {},
   "source": [
    "<br>\n",
    "\n",
    "---\n",
    "<a/ id='p2'></a>\n",
    "[Back to top](#top)\n",
    "## [20 points] Problem 1 - Random Samples from ANYWHERE\n",
    "\n",
    "\n",
    "In notebook 12, we looked at one method many pieces of statistical software use to turn pseudorandom numbers coming from the $U(0,1)$ distribution into those with a normal distribution.  In this problem we examine another such method.\n",
    "\n",
    "### a) Simulating an Exponential\n",
    "#### i ) The exponential distribution has pdf $f(x)= \\lambda e^{-\\lambda x}$ for $x\\ge 0$.  Use the following markdown cell to compute by hand the cdf of the exponential."
   ]
  },
  {
   "cell_type": "markdown",
   "metadata": {},
   "source": [
    "**Solution:**\n",
    "$$F(x)=\\int_0^t \\lambda e^{-\\lambda t} \\, dt = -e^{-\\lambda t} \\biggr \\rvert^x_0= 1-e^{-\\lambda x}$$"
   ]
  },
  {
   "cell_type": "markdown",
   "metadata": {},
   "source": [
    "#### ii) The cdf is a function that takes x-values (or times, in the case of the exponential) and returns probabilities as the y-values.  Specifically, it returns the probability $P(X \\leq x)$.  Find the *inverse* of this function, that takes as input probabilities and outputs times."
   ]
  },
  {
   "cell_type": "markdown",
   "metadata": {},
   "source": [
    "**Solution:** For $F(x)=1-e^{-\\lambda x}$, we find $F^{-1}$ by swapping $x$ and $y$ and solving for $y$:\n",
    "$$x=1-e^{-\\lambda y} \\implies 1-x=e^{-\\lambda y} \\implies y= F^{-1}(x)=\\frac{\\ln(1-x)}{-\\lambda}$$"
   ]
  },
  {
   "cell_type": "markdown",
   "metadata": {},
   "source": [
    "\n",
    "#### iii) Simulate 1000 random $U(0,1)$ variables.  Since these are numbers in $[0,1]$, we could think of them as random *probabilities*.  Plug them into the function you found in ii), then plot a histogram of the results.  Overlay the theoretical density of the exponential.  For each of these, use $\\lambda=1/4$."
   ]
  },
  {
   "cell_type": "code",
   "execution_count": 3,
   "metadata": {},
   "outputs": [
    {
     "data": {
      "text/plain": [
       "[<matplotlib.lines.Line2D at 0x97beac0>]"
      ]
     },
     "execution_count": 3,
     "metadata": {},
     "output_type": "execute_result"
    },
    {
     "data": {
      "image/png": "[encoded data removed]",
      "text/plain": [
       "<Figure size 432x288 with 1 Axes>"
      ]
     },
     "metadata": {
      "needs_background": "light"
     },
     "output_type": "display_data"
    }
   ],
   "source": [
    "# **Solution:** \n",
    "lam=1/4\n",
    "runifs=np.random.uniform(size=1000)\n",
    "newsamp=np.log(1-runifs)/(-lam)\n",
    "\n",
    "#histogram\n",
    "plt.hist(newsamp, bins=20, density=True)\n",
    "#pdf\n",
    "xgrd=np.linspace(0,25,1000)\n",
    "plt.plot(xgrd, lam*np.exp(-xgrd*lam))"
   ]
  },
  {
   "cell_type": "markdown",
   "metadata": {},
   "source": [
    "### b) Simulating a new distribution\n",
    "#### i) Consider a continuous random variable given by $f(x)=cos(x)$ for $x \\in [0, \\pi/2]$.  Find the cdf and inverse cdf of X."
   ]
  },
  {
   "cell_type": "markdown",
   "metadata": {},
   "source": [
    "**Solution:**\n",
    "$$F(x)=\\int_0^t\\cos(t) \\, dt = \\sin(t) \\biggr \\rvert^x_0= \\sin(x)$$\n",
    "\n",
    "For $F(x)=\\sin(x)$, we find $F^{-1}$:\n",
    "$$x=\\sin(y) \\implies \\implies y= F^{-1}(x)=\\sin^{-1}(x)$$"
   ]
  },
  {
   "cell_type": "markdown",
   "metadata": {},
   "source": [
    "\n",
    "#### ii) Simulate draws from X by simulating 1000 $U[0,1]$ random variables and plugging them into the inverse cdf in i).  As in part a), plot a histogram of the random variables against their density function."
   ]
  },
  {
   "cell_type": "code",
   "execution_count": 4,
   "metadata": {},
   "outputs": [
    {
     "data": {
      "text/plain": [
       "[<matplotlib.lines.Line2D at 0x98393d0>]"
      ]
     },
     "execution_count": 4,
     "metadata": {},
     "output_type": "execute_result"
    },
    {
     "data": {
      "image/png": "[encoded data removed]",
      "text/plain": [
       "<Figure size 432x288 with 1 Axes>"
      ]
     },
     "metadata": {
      "needs_background": "light"
     },
     "output_type": "display_data"
    }
   ],
   "source": [
    "# **Solution:** \n",
    "runifs=np.random.uniform(size=1000)\n",
    "newsamp=np.arcsin(runifs)\n",
    "\n",
    "#histogram\n",
    "plt.hist(newsamp, bins=20, density=True)\n",
    "#pdf\n",
    "xgrd=np.linspace(0,np.pi/2,1000)\n",
    "plt.plot(xgrd, np.cos(xgrd))"
   ]
  },
  {
   "cell_type": "markdown",
   "metadata": {},
   "source": [
    "### c) Backwards Normals\n",
    "\n",
    "The process we're following could be summarized as follows, referencing functions we know for many distributions:\n",
    "\n",
    "- Sample from U(0,1)\n",
    "- Plug those samples each into the .ppf (\"Percentile Point Function,\" or inverse of the CDF) for the random variable.\n",
    "- Save the output\n",
    "\n",
    "Now, follow this process for normal random variables.  Sample 1000 random normal variables using `norm.rvs` and then generate 100 random normal variable by transforming 1000 random variables from their `norm.ppfs`.  Plot both samples in an overlapping histogram."
   ]
  },
  {
   "cell_type": "code",
   "execution_count": 5,
   "metadata": {},
   "outputs": [
    {
     "data": {
      "text/plain": [
       "(array([0.00949328, 0.01265771, 0.00949328, 0.05063083, 0.10759052,\n",
       "        0.10442609, 0.21518104, 0.29112728, 0.38922452, 0.36390911,\n",
       "        0.47466405, 0.38289567, 0.2689763 , 0.15822135, 0.15505692,\n",
       "        0.06645297, 0.06645297, 0.02531542, 0.00949328, 0.00316443]),\n",
       " array([-3.14942207, -2.83340909, -2.51739612, -2.20138314, -1.88537016,\n",
       "        -1.56935718, -1.25334421, -0.93733123, -0.62131825, -0.30530528,\n",
       "         0.0107077 ,  0.32672068,  0.64273366,  0.95874663,  1.27475961,\n",
       "         1.59077259,  1.90678556,  2.22279854,  2.53881152,  2.8548245 ,\n",
       "         3.17083747]),\n",
       " <a list of 20 Patch objects>)"
      ]
     },
     "execution_count": 5,
     "metadata": {},
     "output_type": "execute_result"
    },
    {
     "data": {
      "image/png": "[encoded data removed]",
      "text/plain": [
       "<Figure size 432x288 with 1 Axes>"
      ]
     },
     "metadata": {
      "needs_background": "light"
     },
     "output_type": "display_data"
    }
   ],
   "source": [
    "# **Solution:** \n",
    "runifs=np.random.uniform(size=1000)\n",
    "inversesamp=stats.norm.ppf(runifs)\n",
    "\n",
    "#histogram\n",
    "plt.hist(inversesamp, bins=20, density=True)\n",
    "#pdf\n",
    "normalsamp=stats.norm.rvs(size=1000)\n",
    "plt.hist(normalsamp, bins=20, density=True)\n"
   ]
  },
  {
   "cell_type": "markdown",
   "metadata": {},
   "source": [
    "### d) Generalizing\n",
    "\n",
    "Describe in words how this process might work on a discrete random variable.  It is optional but may be useful to use the Bernoulli as an example or implement this process in code."
   ]
  },
  {
   "cell_type": "markdown",
   "metadata": {},
   "source": []
  },
  {
   "cell_type": "code",
   "execution_count": 6,
   "metadata": {},
   "outputs": [
    {
     "data": {
      "text/plain": [
       "[<matplotlib.lines.Line2D at 0xd65a48>]"
      ]
     },
     "execution_count": 6,
     "metadata": {},
     "output_type": "execute_result"
    },
    {
     "data": {
      "image/png": "[encoded data removed]",
      "text/plain": [
       "<Figure size 432x288 with 1 Axes>"
      ]
     },
     "metadata": {
      "needs_background": "light"
     },
     "output_type": "display_data"
    }
   ],
   "source": [
    "def cdf_Bernoulli(x,p):\n",
    "    if x<0: return 0\n",
    "    if (x>=0) and (x<1): return 1-p\n",
    "    if (x>=1): return 1\n",
    "\n",
    "xgrd=np.linspace(-.1,1.1,1000)\n",
    "plt.plot(xgrd, [cdf_Bernoulli(xi,.2) for xi in xgrd])"
   ]
  },
  {
   "cell_type": "markdown",
   "metadata": {},
   "source": [
    "Here's the cdf of the Bernoulli, $p=.2$.  It represents 20% chance of a \"1\", 80% of a \"0.\"  Our method says we should simulate a uniform which is a *y* value on the graph above.  Then we find the x-vlaue that corresponds to it.  For a continuous function that means taking an inverse.  For a discrete function, it means that our y-values will sit on the \"jumps\" in the cdf.  But if we follow each jump downwards to the x-value where it jumped, we get a reasonable result:\n",
    "\n",
    "- Simulate a uniform $U$\n",
    "- If $U < 1-p$, return 0.\n",
    "- If $U >1-p$, return 1.\n",
    "\n",
    "This gives us *exactly* a 1-p probability chance to get 0 and a p probability chance to get 1, as desired.\n",
    "\n",
    "So the method is the same, but we can't directly invert a discrete random variable: we just do something similar.  If we want to generalize, we just add lots more \"if\" checks for each interval from $[0,1]$, allowing each interval to hold the same amount as mass as the pmf for $X$.  In the Bernoulli case, this is an interval of length $p$ for \"1\" and an interval of lentgh $1-p$ for \"0\", but we could divide into as many as intervals as needed."
   ]
  },
  {
   "cell_type": "markdown",
   "metadata": {},
   "source": [
    "<br>\n",
    "\n",
    "---\n",
    "<a/ id='p2'></a>\n",
    "[Back to top](#top)\n",
    "## [20 points] Problem 2 - Exploring Confidence Intervals \n",
    "\n",
    "The [Gamma](https://en.wikipedia.org/wiki/Gamma_distribution) distribution is one of several distributions frequently used to model event times, as it's the sum of exponentials.  It can also be fairly asymmetric, and thus interesting for investigating confidence intervals.  It is implemented in scipy.stats as [gamma](https://docs.scipy.org/doc/scipy/reference/generated/scipy.stats.gamma.html).  (NB: check the links!)"
   ]
  },
  {
   "cell_type": "markdown",
   "metadata": {},
   "source": [
    "**Part A**: Complete the following code cell to plot a histogram of 100 realizations from the Gamma distribution with parameters $k=4$ (a) and $\\theta=10$ (scale).  Be sure to leave this cell executed before turning in your assignment! Make your histogram faces gray with blue edges."
   ]
  },
  {
   "cell_type": "code",
   "execution_count": 10,
   "metadata": {},
   "outputs": [
    {
     "data": {
      "text/plain": [
       "(array([0.02063212, 0.01237927, 0.01650569, 0.01856891, 0.03301139,\n",
       "        0.01444248, 0.01444248, 0.01856891, 0.01856891, 0.00618964,\n",
       "        0.00618964, 0.00412642, 0.00412642, 0.00412642, 0.00618964,\n",
       "        0.00206321, 0.00412642, 0.        , 0.        , 0.00206321]),\n",
       " array([  9.43910274,  14.28591495,  19.13272715,  23.97953936,\n",
       "         28.82635157,  33.67316377,  38.51997598,  43.36678819,\n",
       "         48.21360039,  53.0604126 ,  57.90722481,  62.75403701,\n",
       "         67.60084922,  72.44766143,  77.29447363,  82.14128584,\n",
       "         86.98809805,  91.83491025,  96.68172246, 101.52853467,\n",
       "        106.37534687]),\n",
       " <a list of 20 Patch objects>)"
      ]
     },
     "execution_count": 10,
     "metadata": {},
     "output_type": "execute_result"
    },
    {
     "data": {
      "image/png": "[encoded data removed]",
      "text/plain": [
       "<Figure size 576x288 with 1 Axes>"
      ]
     },
     "metadata": {
      "needs_background": "light"
     },
     "output_type": "display_data"
    }
   ],
   "source": [
    "#GIVEN CODE (updated):\n",
    "k = 4\n",
    "theta = 10\n",
    "n_sample = 100\n",
    "x = stats.gamma.rvs(a=k, size=n_sample, scale=theta)\n",
    "\n",
    "fig, ax = plt.subplots(nrows=1, ncols=1, figsize=(8,4))\n",
    "# Your code goes here!\n",
    "plt.hist(x, bins=20, density=True)"
   ]
  },
  {
   "cell_type": "markdown",
   "metadata": {},
   "source": [
    "**Part B:** Look up the analytical mean and variance (from the documentation or wiki) of the Gamma distribution with parameters $k=4$ and $\\theta=10$ and calculate them here by hand.\n",
    "\n",
    "Use the empirical mean from your sample in **Part A**, and the true variance of the Gamma distribution to compute by hand a 95% confidence interval for the mean."
   ]
  },
  {
   "cell_type": "markdown",
   "metadata": {},
   "source": [
    "***Solution:** The mean is given by the wiki as just $k \\theta=40$, which looks reasonable on our plots.\n",
    "\n",
    "The variance is given by $k \\theta^2=400$, which is a standard deviation of $20$, which looks reasonable on our plots.\n",
    "\n",
    "Note that this makes the standard error *of the mean* of a sample of size 100 equal to $200/\\sqrt{100}=2$."
   ]
  },
  {
   "cell_type": "code",
   "execution_count": 11,
   "metadata": {},
   "outputs": [
    {
     "name": "stdout",
     "output_type": "stream",
     "text": [
      "Empirical mean = 39.046, Theoretical mean = 40.000\n",
      "Empirical variance = 418.340, Theoretical variance = 400.000\n"
     ]
    }
   ],
   "source": [
    "#Your CI\n",
    "xbar_empirical = np.mean(x)\n",
    "xbar_theoretical = k*theta\n",
    "var_empirical = np.var(x, ddof=1)\n",
    "var_theoretical = k*theta**2\n",
    "print(\"Empirical mean = {:0.3f}, Theoretical mean = {:0.3f}\".format(xbar_empirical, xbar_theoretical))\n",
    "print(\"Empirical variance = {:0.3f}, Theoretical variance = {:0.3f}\".format(var_empirical, var_theoretical))"
   ]
  },
  {
   "cell_type": "markdown",
   "metadata": {},
   "source": [
    "**Part C:  A theoretical interlude.** When Lola, the famous Beagle data scientist, ran her solution code for **Part B**, she obtained a 95% confidence interval of $[38.5, 40.5]$ for the mean of the $Gamma(k=4, \\theta=10)$ distribution. For each of the following, explain why or why not the situation described is correct, given the technical definition of a 95% confidence interval we went over in class.\n",
    "\n",
    "**(i)** If you had no other evidence regarding true mean of the $Gamma(k=4, \\theta=10)$ distribution, you could say there is a 95% chance that its true mean falls between 38.5 and 40.5.\n",
    "\n",
    "**(ii)** If a class of 100 students all construct 95% confidence intervals for the mean of the $Gamma(k=4, \\theta=10)$ distribution, then we expect about 95 of their CIs to contain the true mean, and about 5 of them to miss the true mean.\n",
    "\n",
    "**(iii)** If we sample 100 random variables from the $Gamma(k=4, \\theta=10)$ distribution, then roughly 95% of them will be between 38.5 and 40.5."
   ]
  },
  {
   "cell_type": "markdown",
   "metadata": {
    "collapsed": true
   },
   "source": [
    "**Solution:**\n",
    "\n",
    "\n",
    "**(i)** FALSE -- the confidence level is **not** a statement about any particular interval, and this incorrect statement is saying there is something special about the particular CI that I found.  There is not.\n",
    "\n",
    "**(ii)** TRUE -- this is exactly the definition of a 95% confidence interval, that if you cook up a bunch of 95% confidence intervals, you expect them to actually capture the mean about 95% of the time.\n",
    "\n",
    "**(iii)** FALSE -- confidence intervals are about sampling for the **mean** of a distribution, not any particular element from the population, and there is nothing special about the confidence interval here.  This one is doubly wrong!"
   ]
  },
  {
   "cell_type": "markdown",
   "metadata": {},
   "source": [
    "**Part D:** In this part you'll write a function to investigate the _coverage properties_ of a confidence interval for the mean of the Gamma distribution. Complete the following function to randomly sample $m=500$ sample means with sample size $n=100$ for the Gamma distribution with parameters $k=4$ and $\\theta=10$.  For each random sample, compute the 66% confidence interval for the mean. Note that you actually know the variance for the true population distribution, $\\sigma^2$ from Part B.  Your function should do two things: \n",
    "\n",
    "1. Report the proportion of confidence intervals that successfully cover the true mean of the distribution \n",
    "2. Make a plot of 50 randomly selected confidence intervals. Overlay the intervals on the line $y=\\textrm{True mean}$ (from **Part B**). Color confidence intervals steelblue if they cover the true mean, and coral if they don't.  \n",
    "\n",
    "Be sure to leave this cell executed before turning in your assignment!"
   ]
  },
  {
   "cell_type": "code",
   "execution_count": 12,
   "metadata": {},
   "outputs": [
    {
     "name": "stdout",
     "output_type": "stream",
     "text": [
      "proportion covering mean: 0.712\n"
     ]
    },
    {
     "data": {
      "image/png": "[encoded data removed]",
      "text/plain": [
       "<Figure size 1080x432 with 1 Axes>"
      ]
     },
     "metadata": {
      "needs_background": "light"
     },
     "output_type": "display_data"
    }
   ],
   "source": [
    "# SOLUTION:\n",
    "    \n",
    "def confidence_intervals(m=500, n=100):\n",
    "    k = 4\n",
    "    theta = 10\n",
    "    EX = k*theta\n",
    "    VX = k*theta**2\n",
    "    CIs = np.zeros((m,2))\n",
    "    zcrit = stats.norm.ppf(1-(1-0.66)/2)\n",
    "    SE = np.sqrt(VX/n)\n",
    "    ctr = 0\n",
    "    for ii in range(m):\n",
    "        x = stats.gamma.rvs(a=k, scale=theta, size=n)\n",
    "        xbar = np.mean(x) \n",
    "        L, U = xbar - zcrit*SE, xbar + zcrit*SE\n",
    "        CIs[ii,0] = L \n",
    "        CIs[ii,1] = U \n",
    "        ctr += 1 if (L <= EX) and (EX <= U) else 0 \n",
    "        \n",
    "    print(\"proportion covering mean: {:.3f}\".format(ctr/m))\n",
    "    \n",
    "    fig, ax = plt.subplots(nrows=1, ncols=1, figsize=(15,6))\n",
    "    for ii, row in enumerate(np.random.choice(range(m), size=50, replace=False)):\n",
    "        L, U = CIs[row,:]\n",
    "        color = \"steelblue\" if (L <= EX) and (EX <= U) else \"coral\" \n",
    "        plt.plot([ii+1, ii+1], [U, L], color=color)\n",
    "        plt.scatter([ii+1], (U+L)/2, s=25, color=\"k\")\n",
    "    plt.plot([0, 51], [EX, EX], color=\"gray\", ls=\"--\")\n",
    "    ax.grid(alpha=0.25)\n",
    "    \n",
    "confidence_intervals()"
   ]
  },
  {
   "cell_type": "markdown",
   "metadata": {},
   "source": [
    "**Part E:** Does the proportion of confidence intervals that cover the true mean of the distribution agree with the theory described in class?  Justify your conclusion. "
   ]
  },
  {
   "cell_type": "markdown",
   "metadata": {},
   "source": [
    "\n",
    "A 66% confidence interval for the mean constructed in the above manner should cover the true mean of the population 66% of the time.  In the experiment above we see that for $m=500$ independently created confidence intervals the 66% confidence intervals covered the mean 64.2% of the time, which is pretty darn good!"
   ]
  },
  {
   "cell_type": "markdown",
   "metadata": {},
   "source": [
    "---\n",
    "\n",
    "<a id='p3'></a>\n",
    "[Back to top](#top)\n",
    "\n",
    "### [20 points] Problem 3 - Lies, damned lies, and statistics\n",
    "\n",
    "![frazz](http://3.bp.blogspot.com/-SbQUWRfHFXk/VdN8YWAy0WI/AAAAAAAAJLw/Ij5E0CbYk6g/s1600/lies3.gif)\n",
    "\n",
    "Legend of your Data Science prowess has spread o'er the land. You have been contacted by a shadowy organization to assess whether there is statistical evidence for sea-level rise in the area of Honolulu, Hawaii. You obtain from the University of Hawaii Sea Level Center's [gigantic repository of sea-level data](https://uhslc.soest.hawaii.edu/data/?rq) the daily mean sea levels file included in the zip folder for this assignment. The columns are, in order, the year, month, day-of-month and measured sea level (in millimeters)."
   ]
  },
  {
   "cell_type": "markdown",
   "metadata": {},
   "source": [
    "**Part A:** Load the data `sealevel_honolulu.csv` into a Pandas DataFrame. Rename the columns as something meaningful in the context of this problem. Print to the screen the first 7 rows from your updated DataFrame."
   ]
  },
  {
   "cell_type": "code",
   "execution_count": 13,
   "metadata": {},
   "outputs": [
    {
     "data": {
      "text/html": [
       "<div>\n",
       "<style scoped>\n",
       "    .dataframe tbody tr th:only-of-type {\n",
       "        vertical-align: middle;\n",
       "    }\n",
       "\n",
       "    .dataframe tbody tr th {\n",
       "        vertical-align: top;\n",
       "    }\n",
       "\n",
       "    .dataframe thead th {\n",
       "        text-align: right;\n",
       "    }\n",
       "</style>\n",
       "<table border=\"1\" class=\"dataframe\">\n",
       "  <thead>\n",
       "    <tr style=\"text-align: right;\">\n",
       "      <th></th>\n",
       "      <th>Year</th>\n",
       "      <th>Month</th>\n",
       "      <th>Day</th>\n",
       "      <th>SL</th>\n",
       "    </tr>\n",
       "  </thead>\n",
       "  <tbody>\n",
       "    <tr>\n",
       "      <th>0</th>\n",
       "      <td>1905</td>\n",
       "      <td>1</td>\n",
       "      <td>2</td>\n",
       "      <td>1263</td>\n",
       "    </tr>\n",
       "    <tr>\n",
       "      <th>1</th>\n",
       "      <td>1905</td>\n",
       "      <td>1</td>\n",
       "      <td>3</td>\n",
       "      <td>1264</td>\n",
       "    </tr>\n",
       "    <tr>\n",
       "      <th>2</th>\n",
       "      <td>1905</td>\n",
       "      <td>1</td>\n",
       "      <td>4</td>\n",
       "      <td>1269</td>\n",
       "    </tr>\n",
       "    <tr>\n",
       "      <th>3</th>\n",
       "      <td>1905</td>\n",
       "      <td>1</td>\n",
       "      <td>5</td>\n",
       "      <td>1294</td>\n",
       "    </tr>\n",
       "    <tr>\n",
       "      <th>4</th>\n",
       "      <td>1905</td>\n",
       "      <td>1</td>\n",
       "      <td>6</td>\n",
       "      <td>1311</td>\n",
       "    </tr>\n",
       "    <tr>\n",
       "      <th>5</th>\n",
       "      <td>1905</td>\n",
       "      <td>1</td>\n",
       "      <td>7</td>\n",
       "      <td>1330</td>\n",
       "    </tr>\n",
       "    <tr>\n",
       "      <th>6</th>\n",
       "      <td>1905</td>\n",
       "      <td>1</td>\n",
       "      <td>8</td>\n",
       "      <td>1351</td>\n",
       "    </tr>\n",
       "  </tbody>\n",
       "</table>\n",
       "</div>"
      ],
      "text/plain": [
       "   Year  Month  Day    SL\n",
       "0  1905      1    2  1263\n",
       "1  1905      1    3  1264\n",
       "2  1905      1    4  1269\n",
       "3  1905      1    5  1294\n",
       "4  1905      1    6  1311\n",
       "5  1905      1    7  1330\n",
       "6  1905      1    8  1351"
      ]
     },
     "execution_count": 13,
     "metadata": {},
     "output_type": "execute_result"
    }
   ],
   "source": [
    "# SOLUTION:\n",
    "\n",
    "file_path  = \"./sealevel_honolulu.csv\"\n",
    "dfSL = pd.read_csv(file_path, header=None)\n",
    "dfSL.rename(columns={0 : 'Year', 1 : 'Month', 2 : 'Day', 3 : 'SL'}, inplace=True)\n",
    "dfSL.head(7)"
   ]
  },
  {
   "cell_type": "markdown",
   "metadata": {},
   "source": [
    "**Part B:**  Plot the raw time series of sea levels. Be sure to label your axes, including units. For the $x$-axis, place the $x$ tick marks on January 2 of each year that is divisible by 10 (i.e., 1920, 1930, ...), and label with that year. You may need to do additional processing in order to grab these indices. "
   ]
  },
  {
   "cell_type": "code",
   "execution_count": 14,
   "metadata": {},
   "outputs": [
    {
     "data": {
      "image/png": "[encoded data removed]",
      "text/plain": [
       "<Figure size 576x288 with 1 Axes>"
      ]
     },
     "metadata": {
      "needs_background": "light"
     },
     "output_type": "display_data"
    }
   ],
   "source": [
    "# SOLUTION:\n",
    "\n",
    "ind_labels = dfSL.index[(dfSL[\"Month\"]==1) & (dfSL[\"Day\"]==2) & (dfSL[\"Year\"]%10==0)]\n",
    "\n",
    "fig, ax = plt.subplots(nrows=1, ncols=1, figsize=(8,4))\n",
    "dfSL[\"SL\"].plot()\n",
    "ax.set_xticks(ind_labels)\n",
    "ax.set_xticklabels(dfSL.loc[ind_labels, \"Year\"])\n",
    "ax.set_xlabel('Year')\n",
    "ax.set_ylabel('Sea level (mm)')\n",
    "ax.set_title('Sea level in Honolulu, HI');"
   ]
  },
  {
   "cell_type": "markdown",
   "metadata": {},
   "source": [
    "**Part C:** Your time series plot from Part B should look pretty funky. Namely, there are a bunch of spikes in it! What do you think these spikes represent?\n",
    "\n",
    "Now, clean your data set by doing the following:\n",
    "* Remove any data points associated with these spikes. You may need to look back to some of the earlier in-class notebooks and Pandas tutorials for how to drop data points from a Pandas DataFrame. \n",
    "* Include only the data point from the second day of each month.\n",
    "* Convert the sea-level data from millimeters to feet.\n",
    "\n",
    "Then, make a similar plot to Part B, but of your cleaned data set. Be sure to label axes (including units) and only label January 2 of each year that is divisible by 10."
   ]
  },
  {
   "cell_type": "code",
   "execution_count": 15,
   "metadata": {},
   "outputs": [
    {
     "data": {
      "image/png": "[encoded data removed]",
      "text/plain": [
       "<Figure size 576x288 with 1 Axes>"
      ]
     },
     "metadata": {
      "needs_background": "light"
     },
     "output_type": "display_data"
    }
   ],
   "source": [
    "# SOLUTION:\n",
    "\n",
    "def clean_data(df):\n",
    "\n",
    "    dfClean = df.copy()\n",
    "    \n",
    "    # compute fill value based on too-low values\n",
    "    fillVal = dfClean.loc[dfClean[\"SL\"] < -5000, \"SL\"].median()\n",
    "    \n",
    "    # replace missing data with NA\n",
    "    dfClean.loc[dfClean[\"SL\"]==fillVal, \"SL\"] = np.nan\n",
    "    \n",
    "    # drop missing data\n",
    "    dfClean.dropna(subset=[\"SL\"], inplace=True)\n",
    "\n",
    "    # grab only the 2nd day of each month\n",
    "    ind_monthly = dfClean.index[dfClean[\"Day\"]==2]\n",
    "    dfClean = dfClean.loc[ind_monthly, :]\n",
    "    dfClean[\"SL\"] = dfClean[\"SL\"]*0.001/.3048 # .001 m/mm * 1 ft/.3048 m\n",
    "\n",
    "    return dfClean\n",
    "\n",
    "dfClean = clean_data(dfSL)\n",
    "\n",
    "fig, ax = plt.subplots(nrows=1, ncols=1, figsize=(8,4))\n",
    "dfClean[\"SL\"].plot()\n",
    "ax.set_xticks(ind_labels)\n",
    "ax.set_xticklabels(dfClean.loc[ind_labels, \"Year\"])\n",
    "ax.set_xlabel('Year')\n",
    "ax.set_ylabel('Sea level (feet)')\n",
    "ax.set_title('Sea level in Honolulu, HI');"
   ]
  },
  {
   "cell_type": "markdown",
   "metadata": {},
   "source": [
    "**Part D:** Your mysterious employer owns a lot of beachfront property in Hawaii and does not want to see people shy away from buying real estate and spending time near the sea. So, they really want to convince others to that the mean sea level in Honolulu in not increasing. Toward this end, your employer wants to find a decade of data (11 years, including both end points) that has a mean sea level which is not statistically significantly different from the mean sea level in the decade 2000-2010 (including data from both 2000 and 2010). Your employer wants you to use the 99% confidence/1% significance level because it sounds catchy in a press release, and wants the *earliest* decade possible.\n",
    "\n",
    "Use your cleaned monthly data set from Part C to find the earliest decade for which you cannot conclude the mean sea level at Key West was statistically significantly different from the mean sea level in the 2000-2010 decade. You may want to write a helper function to compute the confidence intervals/perform the hypothesis test for you, because there are a LOT of possible 11-year periods to try. (*NOTE: The decade start / end years don't have to end with a 0. For example, 2008 - 2018 is the latest \"decade\" that exists in our dataset.*)\n",
    "\n",
    "You may use either hypothesis tests or confidence intervals, but clearly state which method you will use, your results and show all work that leads to your conclusion. "
   ]
  },
  {
   "cell_type": "code",
   "execution_count": 16,
   "metadata": {},
   "outputs": [],
   "source": [
    "# SOLUTION:\n",
    "\n",
    "# helper function to compute CIs:\n",
    "def ci_sl(year_begin, length_years, dfNow, alp):\n",
    "    dfThen = dfClean.copy()\n",
    "    dfThen = dfThen.loc[(dfThen[\"Year\"]>=year_begin) & (dfThen[\"Year\"]<=(year_begin+length_years)), \"SL\"]\n",
    "\n",
    "    zcrit = stats.norm.ppf(1-alp/2)\n",
    "\n",
    "    SE_diff = np.sqrt((dfNow.var(ddof=1)/dfNow.count()) + (dfThen.var(ddof=1)/dfThen.count()))\n",
    "    xbar = dfNow.mean()-dfThen.mean()\n",
    "    lb = xbar - zcrit*SE_diff\n",
    "    ub = xbar + zcrit*SE_diff\n",
    "    \n",
    "    return lb, ub"
   ]
  },
  {
   "cell_type": "code",
   "execution_count": 17,
   "metadata": {},
   "outputs": [
    {
     "data": {
      "text/plain": [
       "[[1905, (0.43282075347032944, 0.5700226411053426)],\n",
       " [1906, (0.4086377373309372, 0.545688994554845)],\n",
       " [1907, (0.4088559656132052, 0.5472603153062227)],\n",
       " [1908, (0.42332600308258467, 0.5615224817658926)],\n",
       " [1909, (0.4074373707622433, 0.549822233150899)],\n",
       " [1910, (0.34306136864616826, 0.4904708034686785)],\n",
       " [1911, (0.31386337397855374, 0.45617911278247786)],\n",
       " [1912, (0.2913860697750787, 0.42728202483148486)],\n",
       " [1913, (0.27181131391496904, 0.4034174431669256)],\n",
       " [1914, (0.2700435693553276, 0.40075986879840375)],\n",
       " [1915, (0.2710188031341392, 0.4021753245554962)],\n",
       " [1916, (0.28735597780178895, 0.4134582438877287)],\n",
       " [1917, (0.29430999141371045, 0.42334078849672524)],\n",
       " [1918, (0.2980712835951549, 0.425479921552826)],\n",
       " [1919, (0.29192286651986643, 0.41774199302596726)],\n",
       " [1920, (0.2922237640953044, 0.41856014161626465)],\n",
       " [1921, (0.318591309667939, 0.43639491959039656)],\n",
       " [1922, (0.32330240320891246, 0.44123271171989575)],\n",
       " [1923, (0.31939606403759474, 0.4372849190213349)],\n",
       " [1924, (0.330169172981269, 0.448284656653656)],\n",
       " [1925, (0.3145489000197946, 0.43482475781842694)],\n",
       " [1926, (0.30945298160471346, 0.4307740922837685)],\n",
       " [1927, (0.31186671859335574, 0.4345243575221253)],\n",
       " [1928, (0.30181031802208413, 0.4220622660867146)],\n",
       " [1929, (0.2890425486385972, 0.4072908642302469)],\n",
       " [1930, (0.25315731549367687, 0.37338368506306846)],\n",
       " [1931, (0.24435673033271213, 0.3628471987216042)],\n",
       " [1932, (0.23792894500158196, 0.358350322537528)],\n",
       " [1933, (0.21171339429757624, 0.3374732021331123)],\n",
       " [1934, (0.1939033134519213, 0.3217682415897049)],\n",
       " [1935, (0.1794517675795306, 0.3043704032505057)],\n",
       " [1936, (0.16703735646464343, 0.29089141642475425)],\n",
       " [1937, (0.16272559386649316, 0.2877834334141844)],\n",
       " [1938, (0.15823404855072357, 0.28298767810406666)],\n",
       " [1939, (0.15155237633623733, 0.2755869759999571)],\n",
       " [1940, (0.14369393408083805, 0.2668393209405997)],\n",
       " [1941, (0.15559413173076986, 0.2781069003954528)],\n",
       " [1942, (0.15431163736720332, 0.27701709514262784)],\n",
       " [1943, (0.1575597303357418, 0.2794382017409228)],\n",
       " [1944, (0.17656576881712716, 0.29314114281890924)],\n",
       " [1945, (0.19946842032011497, 0.32119092907938124)],\n",
       " [1946, (0.20149311720763322, 0.32513139563734567)],\n",
       " [1947, (0.20713451847245892, 0.32997874009749206)],\n",
       " [1948, (0.2018080156410203, 0.32720256258215524)],\n",
       " [1949, (0.16620688061126412, 0.29514880220110895)],\n",
       " [1950, (0.16875851260821387, 0.29776697852357636)],\n",
       " [1951, (0.15258829254628248, 0.2851552849610779)],\n",
       " [1952, (0.14195457071611955, 0.27481151534130205)],\n",
       " [1953, (0.12888653507743414, 0.2627761548135957)],\n",
       " [1954, (0.12265050695137326, 0.25573969427346754)],\n",
       " [1955, (0.12290459857137347, 0.25777224864089954)],\n",
       " [1956, (0.10558000523178782, 0.23329098816676494)],\n",
       " [1957, (0.10353744416469846, 0.23127063542909687)],\n",
       " [1958, (0.0966358684091419, 0.22965705420522925)],\n",
       " [1959, (0.08440234665935939, 0.21494260857307027)],\n",
       " [1960, (0.10883440741976734, 0.23829560521483883)],\n",
       " [1961, (0.10699024012409189, 0.2368839771948492)],\n",
       " [1962, (0.11988272886717634, 0.24794913305917687)],\n",
       " [1963, (0.12328832247809116, 0.2543225590062954)],\n",
       " [1964, (0.11405663951197408, 0.2477321269948437)],\n",
       " [1965, (0.12000360118682335, 0.25316227140754516)],\n",
       " [1966, (0.11642457318724421, 0.25013798018955447)],\n",
       " [1967, (0.11087991823638432, 0.2470983959716594)],\n",
       " [1968, (0.08284044965392477, 0.21762667110035938)],\n",
       " [1969, (0.08318778367937434, 0.21231672210766744)],\n",
       " [1970, (0.08085292924095884, 0.21123288623531095)],\n",
       " [1971, (0.04641486811418359, 0.17999900929552304)],\n",
       " [1972, (0.038289003651243145, 0.16965291804704247)],\n",
       " [1973, (0.027971061776530304, 0.15739142132217165)],\n",
       " [1974, (0.014470314357532668, 0.1447522070697116)],\n",
       " [1975, (0.019707741240737695, 0.1505029899936109)],\n",
       " [1976, (0.0222072713807039, 0.15534629199962657)],\n",
       " [1977, (0.02268272915216271, 0.15391717739360503)],\n",
       " [1978, (-0.0011468038320961854, 0.12918683630201133)],\n",
       " [1979, (0.003943268602818045, 0.133156071252422)],\n",
       " [1980, (0.016596963301826598, 0.1494334192639828)],\n",
       " [1981, (0.0288229744132579, 0.16255935279583653)],\n",
       " [1982, (0.042544809747095125, 0.17547885512695988)],\n",
       " [1983, (0.02812357290945172, 0.1615839199476406)],\n",
       " [1984, (0.026630506726738584, 0.16247129261127316)],\n",
       " [1985, (0.015727402018435754, 0.15232654753156954)],\n",
       " [1986, (0.001518313805895219, 0.13862325940654213)],\n",
       " [1987, (-0.02450943818004306, 0.10832151411810778)],\n",
       " [1988, (-0.024137192756126302, 0.10855496221326627)],\n",
       " [1989, (-0.008902055710902773, 0.12259501192354108)],\n",
       " [1990, (-0.0023867187698291825, 0.12975825362167212)],\n",
       " [1991, (-0.021672888953859798, 0.10447547569344742)],\n",
       " [1992, (-0.02410521604140818, 0.09984137839173605)],\n",
       " [1993, (-0.04138321968750279, 0.08527688070714066)],\n",
       " [1994, (-0.05741490983928402, 0.07103536637312183)],\n",
       " [1995, (-0.06609962850659636, 0.058941432372017113)],\n",
       " [1996, (-0.06572973957017526, 0.05862125313097645)],\n",
       " [1997, (-0.057457155598199285, 0.06610664259413099)],\n",
       " [1998, (-0.06035843299401107, 0.06493172496887019)]]"
      ]
     },
     "execution_count": 17,
     "metadata": {},
     "output_type": "execute_result"
    }
   ],
   "source": [
    "dfNow = dfClean.copy()\n",
    "dfNow = dfNow.loc[(dfNow[\"Year\"]>=2000) & (dfNow[\"Year\"]<=2010), \"SL\"]\n",
    "[[begy, ci_sl(begy, 10, dfNow, 0.01)] for begy in range(1905,1999)]"
   ]
  },
  {
   "cell_type": "code",
   "execution_count": 18,
   "metadata": {},
   "outputs": [
    {
     "name": "stdout",
     "output_type": "stream",
     "text": [
      "begin_year of the earliest decade is 1978 and its LB and UB is [-0.0011468038320961854, 0.12918683630201133]\n"
     ]
    }
   ],
   "source": [
    "# SOLUTION: An Alternate Method for demonstrating a Confidence Interval\n",
    "for beginyear in range(1905, 1999):\n",
    "    lb, ub = ci_sl(beginyear, 10, dfNow, 0.01)\n",
    "    if lb <=0 and ub >= 0:\n",
    "        print('begin_year of the earliest decade is {} and its LB and UB is [{}, {}]'.format(beginyear, lb, ub))\n",
    "        break"
   ]
  },
  {
   "cell_type": "markdown",
   "metadata": {},
   "source": [
    "SOLUTION: From the generated confidence intervals, in 1978 - 1988 we encounter sea levels that are not statistically significantly different than those of 2000 - 2010 (just barely!).\n",
    "\n",
    "Otherwise, we see a series of decade frames that starts with 1987 - 1997, which is suspiciously close to overlapping with the 2000 - 2010 frame."
   ]
  },
  {
   "cell_type": "code",
   "execution_count": null,
   "metadata": {},
   "outputs": [],
   "source": []
  }
 ],
 "metadata": {
  "kernelspec": {
   "display_name": "Python 3",
   "language": "python",
   "name": "python3"
  },
  "language_info": {
   "codemirror_mode": {
    "name": "ipython",
    "version": 3
   },
   "file_extension": ".py",
   "mimetype": "text/x-python",
   "name": "python",
   "nbconvert_exporter": "python",
   "pygments_lexer": "ipython3",
   "version": "3.6.5"
  }
 },
 "nbformat": 4,
 "nbformat_minor": 2
}
