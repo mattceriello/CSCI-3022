{
 "cells": [
  {
   "cell_type": "markdown",
   "metadata": {},
   "source": [
    "<a id='top'></a>\n",
    "\n",
    "# CSCI3022 F20\n",
    "# Homework 1: Data Cleaning and Exploratory Data Analysis \n",
    "***\n",
    "\n",
    "**Name**: MATT CERIELLO________________________________________________________________________\n",
    "\n",
    "***\n",
    "\n",
    "This assignment is due on Canvas by **MIDNIGHT on Friday September 4**. Your solutions to theoretical questions should be done in Markdown directly below the associated question.  Your solutions to computational questions should include any specified Python code and results as well as written commentary on your conclusions.  Remember that you are encouraged to discuss the problems with your classmates, but **you must write all code and solutions on your own**.\n",
    "\n",
    "**NOTES**: \n",
    "\n",
    "- Any relevant data sets should be available on Canvas. To make life easier on the graders if they need to run your code, do not change the relative path names here. Instead, move the files around on your computer.\n",
    "- If you're not familiar with typesetting math directly into Markdown then by all means, do your work on paper first and then typeset it later.  Remember that there is a [reference guide](https://math.meta.stackexchange.com/questions/5020/mathjax-basic-tutorial-and-quick-reference) linked on Canvas on writing math in Markdown. **All** of your written commentary, justifications and mathematical work should be in Markdown.\n",
    "- Because you can technically evaluate notebook cells is a non-linear order, it's a good idea to do Kernel $\\rightarrow$ Restart & Run All as a check before submitting your solutions.  That way if we need to run your code you will know that it will work as expected. \n",
    "- It is **bad form** to make your reader interpret numerical output from your code.  If a question asks you to compute some value from the data you should show your code output **AND** write a summary of the results in Markdown directly below your code. \n",
    "- 95 points of this assignment are in problems.  The remaining 5 are for neatness, style, and overall exposition of both code and text.\n",
    "- This probably goes without saying, but... For any question that asks you to calculate something, you **must show all work and justify your answers to receive credit**. Sparse or nonexistent work will receive sparse or nonexistent credit. \n",
    "\n",
    "---\n",
    "**Shortcuts:**  [Problem 1](#p1) | [Problem 2](#p2) | [Problem 3](#p3) | [Problem 4](#p4) |\n",
    "---"
   ]
  },
  {
   "cell_type": "code",
   "execution_count": 1,
   "metadata": {},
   "outputs": [],
   "source": [
    "import pandas as pd\n",
    "import numpy as np\n",
    "import matplotlib.pylab as plt\n",
    "%matplotlib inline"
   ]
  },
  {
   "cell_type": "markdown",
   "metadata": {},
   "source": [
    "[Back to top](#top)\n",
    "\n",
    "<br>\n",
    "\n",
    "<a/ id='p1'></a>\n",
    "\n",
    "### (20 points) Problem 1: Theory (Sampling)\n",
    "***\n",
    "\n",
    "<img style=\"float: left; width: 200px; padding: 3mm;\" src=\"https://upload.wikimedia.org/wikipedia/commons/5/57/Acme_ballot_box_-_Smithsonian.jpg\" alt=\"A ballot box\"/>  \n",
    "You are the head of a news outlet on election day. You have embedded journalists in key U.S. States in order sample voters at different polling stations in the states. Once your journalists choose a polling station, they monitor the station for the election day. The journalists then report back the number of votes for each candidate, which is recorded in a special App on your phone, called Hippocampus. Overall, your team collected data from 6 polling stations in Alaska, 36 polling stations in Ohio, 12 polling stations in Colorado, 6 polling stations in Iowa, and 42 polling stations from California.\n",
    "\n",
    "You want to get a sense of the average amount of votes for each candidate per polling station, so you use the Hippocampus app to randomly choose 1 polling station in Alaska, 6 polling stations in Ohio, 2 polling stations in Colorado, 1 polling station in Iowa, and 7 polling stations from California.\n",
    "\n",
    "$$ \\quad $$\n",
    "    \n",
    "**Part A:** Identify the following: \n",
    "\n",
    "- the population \n",
    "- the sample frame \n",
    "- the sample \n",
    "- the type of sample \n",
    "- the quantity of interest"
   ]
  },
  {
   "cell_type": "markdown",
   "metadata": {},
   "source": [
    "**Typeset your solution to part A in this cell or cells**\n",
    "\n",
    "Population: Citizens of the United States\n",
    "\n",
    "Sample Frame: 6 polling stations in Alaska, 36 polling stations in Ohio, 12 polling stations in Colorado, 6 polling stations in Iowa, and 42 polling stations from California.\n",
    "\n",
    "Sample: 1 polling station in Alaska, 6 polling stations in Ohio, 2 polling stations in Colorado, 1 polling station in Iowa, and 7 polling stations from California.\n",
    "\n",
    "Type of Sample: Simple Random Sample\n",
    "\n",
    "Quantity of Interest: Someone's vote for the election"
   ]
  },
  {
   "cell_type": "markdown",
   "metadata": {},
   "source": [
    "**Part B:** You repeat your sampling, again using the Hippocampus app. Now, you order the stations alphabetically by State and choose every 3rd data value. \n",
    "    \n",
    "Identify the following: \n",
    "\n",
    "- the population \n",
    "- the sample frame \n",
    "- the sample \n",
    "- the type of sample \n",
    "- the quantity of interest"
   ]
  },
  {
   "cell_type": "markdown",
   "metadata": {},
   "source": [
    "**Typeset your solution to part B in this cell or cells**\n",
    "\n",
    "Population: Citizens of the United States\n",
    "\n",
    "Sample Frame: 6 polling stations in Alaska, 36 polling stations in Ohio, 12 polling stations in Colorado, 6 polling stations in Iowa, and 42 polling stations from California.\n",
    "\n",
    "Sample: 1 polling station in Alaska, 6 polling stations in Ohio, 2 polling stations in Colorado, 1 polling station in Iowa, and 7 polling stations from California.\n",
    "\n",
    "Type of Sample: Systematic Sample\n",
    "\n",
    "Quantity of Interest: Someone's vote for the election\n"
   ]
  },
  {
   "cell_type": "markdown",
   "metadata": {},
   "source": [
    "[Back to top](#top)\n",
    "\n",
    "<br>\n",
    "\n",
    "<a/ id='p2'></a>\n",
    "\n",
    "### (20 points) Problem 2: Theory and Computation (Means and Medians)\n",
    "***\n",
    "\n",
    "A method to investigate the sensitivity of the sample mean and sample median to extreme outliers and changes in the dataset is to replace one or more elements in a given dataset by a number $y$ and investigate the effect when $y$ changes. To illustrate this, consider the following dataset:\n",
    " \n",
    "$$  4.2 \\quad 5.1 \\quad 5.0 \\quad y \\quad 3.8 \\quad 4.1 \\quad 5.5 \\quad 1.9 $$\n",
    "\n",
    "\n"
   ]
  },
  {
   "cell_type": "markdown",
   "metadata": {},
   "source": [
    "**Part A:** Compute the sample mean and sample median for $y=1.5$. Then compute both quantities again for $y=6$."
   ]
  },
  {
   "cell_type": "code",
   "execution_count": 2,
   "metadata": {},
   "outputs": [
    {
     "name": "stdout",
     "output_type": "stream",
     "text": [
      "The sample mean for y = 1.5 is 3.8875\n",
      "The sample median for y = 1.5 is 4.15\n",
      "\n",
      "\n",
      "The sample mean for y = 6 is 4.45\n",
      "The sample median for y = 6 is 4.6\n"
     ]
    }
   ],
   "source": [
    "#Your Code here\n",
    "mean1 = (4.2+5.1+5.0+1.5+3.8+4.1+5.5+1.9)/8\n",
    "print(\"The sample mean for y = 1.5 is \" + str(mean1))\n",
    "\n",
    "#Median\n",
    "#1.5, 1.9, 3.8, [4.1, 4.2,] 5.0, 5.1, 5.5\n",
    "median1 = (4.1+4.2)/2\n",
    "print(\"The sample median for y = 1.5 is \" + str(median1))\n",
    "\n",
    "print(\"\\n\")\n",
    "\n",
    "mean2 = (4.2+5.1+5.0+6.0+3.8+4.1+5.5+1.9)/8\n",
    "print(\"The sample mean for y = 6 is \" + str(mean2))\n",
    "\n",
    "#Median\n",
    "#1.9, 3.8, 4.1, [4.2, 5.0,] 5.1, 5.5, 6.0\n",
    "median2 = (4.2+5.0)/2\n",
    "print(\"The sample median for y = 6 is \" + str(median2))\n",
    "\n",
    "\n"
   ]
  },
  {
   "cell_type": "markdown",
   "metadata": {},
   "source": [
    "**Part B:** Is there a value for $y$ that would make the mean of the data equal to 6? If so, calculate the value of $y$ that makes the mean equal to 6. If not, clearly explain why not.\n",
    "    \n",
    "Is there a value for $y$ that would make the median of the data equal to 6? If so, calculate the values of $y$ that makes the median equal to 6. If not, clearly explain why not."
   ]
  },
  {
   "cell_type": "markdown",
   "metadata": {},
   "source": [
    "**Typeset and/or code your solution to part B in this cell or cells**\n",
    "** **\n",
    "SOL: You can find a value for y so that the mean equals 6 by setting up the equation for finding the mean. You plug in 6 for the mean and solve for y.\n",
    "\n",
    "$6 = \\frac{(4.2 + 5.1 + 5.0 + y + 3.8 + 4.1 + 5.5 + 1.9)}{8}$\n",
    "** **\n",
    "$48 = 29.6 + y$\n",
    "** **\n",
    "$18.4 = y$\n",
    "\n",
    "\n",
    "** **\n",
    "** **\n",
    "\n",
    "SOL: There is no value of y that would make the median equal to 6. Because of the data that is already there, it is impossible make the median equal to 6. You would need to add more numbers to the data inn order to allow the median to be 6"
   ]
  },
  {
   "cell_type": "markdown",
   "metadata": {},
   "source": [
    "**Part C**: Compute the sample variance and the sample standard deviation for the original dataset given in part A, with $y=6$."
   ]
  },
  {
   "cell_type": "code",
   "execution_count": 3,
   "metadata": {},
   "outputs": [
    {
     "name": "stdout",
     "output_type": "stream",
     "text": [
      "The sample variance of the data is 1.62\n",
      "\n",
      "\n",
      "The standard deviation of the data is 1.2727922061357855\n"
     ]
    }
   ],
   "source": [
    "#Your code for Part C, here\n",
    "# 1.9, 3.8, 4.1, 4.2, 5.0, 5.1, 5.5, 6.0\n",
    "#Mean = 4.45\n",
    "import math\n",
    "\n",
    "data = [1.9, 3.8, 4.1, 4.2, 5.0, 5.1, 5.5, 6.0]\n",
    "sv = 0\n",
    "for x in data:\n",
    "    sv += ((x - 4.45) ** 2)\n",
    "sv = (sv * (1/7))\n",
    "print(\"The sample variance of the data is \" + str(sv))\n",
    "\n",
    "print(\"\\n\")\n",
    "\n",
    "sd = math.sqrt(sv)\n",
    "print(\"The standard deviation of the data is \" + str(sd))"
   ]
  },
  {
   "cell_type": "markdown",
   "metadata": {},
   "source": [
    "**Part D**: Compute the sample median for the following cases: \n",
    "- $y=5$ \n",
    "- $y=50$ \n",
    "- $y=4.36$ \n",
    "- $y \\to \\infty$ \n",
    "- $y \\to -\\infty$"
   ]
  },
  {
   "cell_type": "code",
   "execution_count": 4,
   "metadata": {},
   "outputs": [
    {
     "name": "stdout",
     "output_type": "stream",
     "text": [
      "The sample median for y = 5 is 4.6\n",
      "\n",
      "\n",
      "The sample median for y = 50 is 4.6\n",
      "\n",
      "\n",
      "The sample median for y = 4.36 is 4.28\n",
      "\n",
      "\n",
      "The sample median for y -> infinty is 4.6\n",
      "\n",
      "\n",
      "The sample median for y -> -infinity is 4.15\n"
     ]
    }
   ],
   "source": [
    "#Your code for Part D, here\n",
    "\n",
    "#y = 5\n",
    "# 1.9, 3.8, 4.1, [4.2, 5.0,] 5.0, 5.1, 5.5\n",
    "median1 = (4.2+5.0)/2\n",
    "print(\"The sample median for y = 5 is \" + str(median1))\n",
    "\n",
    "print(\"\\n\")\n",
    "\n",
    "#y = 50\n",
    "# 1.9, 3.8, 4.1, [4.2, 5.0,] 5.1, 5.5, 50\n",
    "median2 = (4.2+5.0)/2\n",
    "print(\"The sample median for y = 50 is \" + str(median2))\n",
    "\n",
    "print(\"\\n\")\n",
    "\n",
    "#y = 4.36\n",
    "# 1.9, 3.8, 4.1, [4.2, 4.36,] 5.0, 5.1, 5.5\n",
    "median3 = (4.2+4.36)/2\n",
    "print(\"The sample median for y = 4.36 is \" + str(median3))\n",
    "\n",
    "print(\"\\n\")\n",
    "\n",
    "#y -> infnity \n",
    "# 1.9, 3.8, 4.1, [4.2, 5.0,] 5.1, 5.5, y -> infinity\n",
    "median4 = (4.2+5.0)/2\n",
    "print(\"The sample median for y -> infinty is \" + str(median4))\n",
    "\n",
    "print(\"\\n\")\n",
    "\n",
    "#y -> -infnity \n",
    "# y -> -infinity, 1.9, 3.8, [4.1, 4.2,] 5.0, 5.1, 5.5\n",
    "median5 = (4.1+4.2)/2\n",
    "print(\"The sample median for y -> -infinity is \" + str(median5))\n",
    "\n",
    "\n",
    "\n"
   ]
  },
  {
   "cell_type": "markdown",
   "metadata": {},
   "source": [
    "**Part E**: Think about the previous parts, above, and describe in words or mathematical notation the answers to the following two questions:\n",
    "\n",
    "- By varying $y$, what is the set of all the possible values that the sample mean could take on?\n",
    "- By varying $y$, what is the set of all the possible values that the sample median could take on? Specifically, for what sets of $y$ values does the median take on its different possible values?"
   ]
  },
  {
   "cell_type": "markdown",
   "metadata": {},
   "source": [
    "**Typeset your solution to part E in this cell or cells**\n",
    "1. I think the set of all possible values of a sample mean is [-infinity, infinity]. You will get a value for a mean with y being any number between -infinity to infinity. trying to do any calulation to infinity leaves you with infinity.\n",
    "\n",
    "** ** \n",
    "2. There are 3 cases for the median. When $y \\le 4.1$, and when $4.1 \\lt y \\lt 5.0$ and when $y \\ge 5.0$.\n",
    "\n",
    "\n",
    "When $y \\le 4.1$, the median will be the average of 4.1 and 4.2, since the data set is even in size.\n",
    "\n",
    "1.9, 3.8, y, [4.1, 4.2,] 5.0, 5.1, 5.5\n",
    "** **\n",
    "When $4.1 \\lt y \\lt 5.0$, the median will be the average of whatever y is and 4.2\n",
    "\n",
    "1.9, 3.8, 4.1, [y, 4.2,] 5.0, 5.1, 5.5\n",
    "\n",
    "OR\n",
    "\n",
    "1.9, 3.8, 4.1, [4.2, y,] 5.0, 5.1, 5.5\n",
    "** **\n",
    "When $y \\ge 5.0$, the median will be the average of 4.2 and 5.0 \n",
    "\n",
    "1.9, 3.8, 4.1, [4.2, 5.0,] y, 5.1, 5.5"
   ]
  },
  {
   "cell_type": "markdown",
   "metadata": {},
   "source": [
    "**Part F**: Describe in words or mathematical notation, what happens to the sample standard deviation when $y$ is varied in the following ways: \n",
    " \n",
    "- $y \\to \\infty$ \n",
    "- $y \\to \\bar{x}$"
   ]
  },
  {
   "cell_type": "markdown",
   "metadata": {},
   "source": [
    "**Typeset your solution to part F in this cell or cells**\n",
    "\n",
    "SOL:\n",
    "1. As we increase y to infinty, our standard deviation will increase.\n",
    "\n",
    "2. As we increment y towards the mean, our standard deviation will decrease."
   ]
  },
  {
   "cell_type": "markdown",
   "metadata": {},
   "source": [
    "[Back to top](#top)\n",
    "<a/ id='p6'></a>\n",
    "\n",
    "## (20 pts) Problem 3: Computation (Scaling)\n",
    "***\n",
    "Consider the following 3 data sets:\n",
    "\n",
    "`A=[0,1,2,3,4,5,6,7,8,9,10,11,12]`\n",
    "\n",
    "`B=[0,0,0,12,7,18,47,25,0,13,0,35]`\n",
    "\n",
    "`C` is the random data set generated by using `np.random.exponential(scale=43, size=1000)`\n",
    "\n",
    "For each data set, perform the following computations in parts A, B, and C:\n",
    "\n",
    "**Part A:** Compute and print the mean and standard deviation of the data set."
   ]
  },
  {
   "cell_type": "code",
   "execution_count": 5,
   "metadata": {},
   "outputs": [
    {
     "name": "stdout",
     "output_type": "stream",
     "text": [
      "The mean of data set a is 6.0\n",
      "The standard deviation of data set a is 3.8944404818493075\n",
      "\n",
      "\n",
      "The mean of data set b is 13.083333333333334\n",
      "The standard deviation of data set b is 15.64061341120571\n",
      "\n",
      "\n",
      "The mean of data set c is 40.61897554896676\n",
      "The standard deviation of data set c is 40.66938545905104\n"
     ]
    }
   ],
   "source": [
    "#Code here=\n",
    "a = [0,1,2,3,4,5,6,7,8,9,10,11,12]\n",
    "b = [0,0,0,12,7,18,47,25,0,13,0,35]\n",
    "c = np.random.exponential(scale=43, size=1000)\n",
    "\n",
    "ac = 0\n",
    "for x in a:\n",
    "    ac += x\n",
    "am = ac/13\n",
    "print(\"The mean of data set a is \" + str(am))\n",
    "\n",
    "asv = 0\n",
    "for x1 in a:\n",
    "    asv += ((x1 - am) ** 2)\n",
    "asv = (asv * (1/12))\n",
    "asd = math.sqrt(asv)\n",
    "print(\"The standard deviation of data set a is \" + str(asd))\n",
    "\n",
    "print(\"\\n\")\n",
    "\n",
    "bc = 0\n",
    "for y in b:\n",
    "    bc += y\n",
    "bm = bc/12\n",
    "print(\"The mean of data set b is \" + str(bm))\n",
    "\n",
    "bsv = 0\n",
    "for y1 in b:\n",
    "    bsv += ((y1 - bm) ** 2)\n",
    "bsv = (bsv * (1/11))\n",
    "bsd = math.sqrt(bsv)\n",
    "print(\"The standard deviation of data set b is \" + str(bsd))\n",
    "\n",
    "print(\"\\n\")\n",
    "\n",
    "cmean = c.mean()\n",
    "print(\"The mean of data set c is \" + str(c.mean()))\n",
    "cstd = c.std()\n",
    "print(\"The standard deviation of data set c is \" + str(c.std()))\n"
   ]
  },
  {
   "cell_type": "markdown",
   "metadata": {},
   "source": [
    "**Part B:** Compute and print  the mean and standard deviation of the new data set formed by subtracting the original mean from each observation."
   ]
  },
  {
   "cell_type": "code",
   "execution_count": 6,
   "metadata": {},
   "outputs": [
    {
     "name": "stdout",
     "output_type": "stream",
     "text": [
      "The new mean of data set a is 0.0\n",
      "The new standard deviation of data set a is 3.8944404818493075\n",
      "\n",
      "\n",
      "The new mean of data set b is -1.1842378929335002e-15\n",
      "The new standard deviation of data set b is 15.64061341120571\n",
      "\n",
      "\n",
      "The new mean of data set c is 1.5134560271690134e-15\n",
      "The new standard deviation of data set c is 40.689735415520445\n"
     ]
    }
   ],
   "source": [
    "#Code here\n",
    "#print(c.mean())\n",
    "\n",
    "anewmean = 0\n",
    "for x3 in a:\n",
    "    anewmean += (x3 - am)\n",
    "anewmean = (anewmean * (1/13))\n",
    "print(\"The new mean of data set a is \" + str(anewmean))\n",
    "\n",
    "anewstd = 0\n",
    "for x4 in a:\n",
    "    anewstd += (((x4 - am) - anewmean) ** 2)\n",
    "anewstd = (anewstd * (1/12))\n",
    "anewstd = math.sqrt(anewstd)\n",
    "print(\"The new standard deviation of data set a is \" + str(anewstd))\n",
    "\n",
    "print(\"\\n\")\n",
    "\n",
    "bnewmean = 0\n",
    "for y3 in b:\n",
    "    bnewmean += (y3 - bm)\n",
    "bnewmean = (bnewmean * (1/12))\n",
    "print(\"The new mean of data set b is \" + str(bnewmean))\n",
    "\n",
    "bnewstd = 0\n",
    "for y4 in b:\n",
    "    bnewstd += (((y4 - bm) - bnewmean) ** 2)\n",
    "bnewstd = (bnewstd * (1/11))\n",
    "bnewstd = math.sqrt(bnewstd)\n",
    "print(\"The new standard deviation of data set b is \" + str(bnewstd))\n",
    "\n",
    "print(\"\\n\")\n",
    "\n",
    "cnewmean = 0\n",
    "for z in c:\n",
    "    cnewmean += (z - cmean)\n",
    "    #print(z - cmean)\n",
    "cnewmean = (cnewmean*(1/1000))\n",
    "print(\"The new mean of data set c is \" +str(cnewmean))\n",
    "\n",
    "cnewstd =0\n",
    "for z1 in c:\n",
    "    cnewstd += (((z1 - cmean)-cnewmean) ** 2)\n",
    "cnewstd = (cnewstd *(1/999))\n",
    "cnewstd = math.sqrt(cnewstd)\n",
    "print(\"The new standard deviation of data set c is \" + str(cnewstd))\n"
   ]
  },
  {
   "cell_type": "markdown",
   "metadata": {},
   "source": [
    "**Part C:** Compute and print  the mean and standard deviation of the new data set formed by subtracting the original mean from each observation and then dividing by the original standard deviation."
   ]
  },
  {
   "cell_type": "code",
   "execution_count": 7,
   "metadata": {},
   "outputs": [
    {
     "name": "stdout",
     "output_type": "stream",
     "text": [
      "The new mean of data set a is -6.832141690000964e-17\n",
      "The new standard deviation of data set a is 8.603189426505949e-09\n",
      "\n",
      "\n",
      "The new mean of data set b is -7.401486830834377e-17\n",
      "The new standard deviation of data set b is 6.353876482117487e-09\n",
      "\n",
      "\n",
      "The new mean of data set c is 2.708944180085382e-17\n",
      "The new standard deviation of data set c is 4.055582388876508e-09\n"
     ]
    }
   ],
   "source": [
    "#Code here\n",
    "afinalmean = 0\n",
    "for x5 in a:\n",
    "    x5 = ((x5 - am)*(1/asd))\n",
    "    afinalmean = afinalmean + x5\n",
    "afinalmean *= (1/13)\n",
    "print(\"The new mean of data set a is \" + str(afinalmean))\n",
    "\n",
    "afinalstd = 0\n",
    "for x6 in a:\n",
    "    x6 = ((x6 - am)*(1/asd))\n",
    "    afinalstd += (x6 - afinalmean)\n",
    "afinalstd *= (1/12)\n",
    "afinalstd = math.sqrt(afinalstd)\n",
    "print(\"The new standard deviation of data set a is \" +str(afinalstd))\n",
    "\n",
    "print(\"\\n\")\n",
    "\n",
    "bfinalmean = 0\n",
    "for y5 in b:\n",
    "    y5 = ((y5 - bm)*(1/bsd))\n",
    "    bfinalmean += y5\n",
    "bfinalmean *= (1/12)\n",
    "print(\"The new mean of data set b is \" + str(bfinalmean))\n",
    "\n",
    "bfinalstd = 0\n",
    "for y6 in b:\n",
    "    y6 = ((y6 - bm)*(1/bsd))\n",
    "    bfinalstd += (y6 - bfinalmean)\n",
    "bfinalstd *= (1/11)\n",
    "bfinalstd = math.sqrt(bfinalstd)\n",
    "print(\"The new standard deviation of data set b is \" +str(bfinalstd))\n",
    "\n",
    "print(\"\\n\")\n",
    "\n",
    "cfinalmean = 0\n",
    "for z2 in c:\n",
    "    z2 = ((z2 - cmean)*(1/cstd))\n",
    "    cfinalmean += z2\n",
    "cfinalmean *= (1/1000)\n",
    "print(\"The new mean of data set c is \" + str(cfinalmean))\n",
    "\n",
    "cfinalstd = 0\n",
    "for z3 in c:\n",
    "    z3 = ((z3 - cmean)*(1/cstd))\n",
    "    cfinalstd += (z3 - cfinalmean)\n",
    "cfinalstd *= (1/999)\n",
    "cfinalstd = abs(cfinalstd)\n",
    "cfinalstd = math.sqrt(cfinalstd)\n",
    "print(\"The new standard deviation of data set c is \" +str(cfinalstd))\n"
   ]
  },
  {
   "cell_type": "markdown",
   "metadata": {},
   "source": [
    "**Part D:** Why might this result matter?"
   ]
  },
  {
   "cell_type": "markdown",
   "metadata": {},
   "source": [
    "**Typeset your solution to part D in this cell or cells**\n",
    "\n",
    "SOL: This result would be worth looking into becuase we can notice a pattern between the numbers after the e."
   ]
  },
  {
   "cell_type": "markdown",
   "metadata": {},
   "source": [
    "**Part E:** Looking at each of the 3 data sets, come up with a real-world context where those kind of numbers might make for reasonable observations."
   ]
  },
  {
   "cell_type": "markdown",
   "metadata": {},
   "source": [
    "**Typeset your solution to part E in this cell or cells**\n",
    "\n",
    "SOL: These could be a list of people where the a is just a count, b is some sort of rating out of 100, and c is 1000 randomly generated numbers for a lottery. Some algorithm would be able to take their rating out of 100 and the generated 1000 numbers and calculate a probability for winning a lottery."
   ]
  },
  {
   "cell_type": "markdown",
   "metadata": {},
   "source": [
    "[Back to top](#top)\n",
    "<a/ id='p4'></a>\n",
    "\n",
    "## (35 pts) Problem 4: Data (monthly patterns)\n",
    "***\n",
    "\n",
    "NOAA's Physical Sciences division (https://www.esrl.noaa.gov/psd) houses an enormous amount of weather data.  Load `BoulderPrecip.csv` from the course page for the last 120 years of monthly precipitation data from Boulder.  Let's take a look!"
   ]
  },
  {
   "cell_type": "code",
   "execution_count": 8,
   "metadata": {},
   "outputs": [
    {
     "data": {
      "text/html": [
       "<div>\n",
       "<style scoped>\n",
       "    .dataframe tbody tr th:only-of-type {\n",
       "        vertical-align: middle;\n",
       "    }\n",
       "\n",
       "    .dataframe tbody tr th {\n",
       "        vertical-align: top;\n",
       "    }\n",
       "\n",
       "    .dataframe thead th {\n",
       "        text-align: right;\n",
       "    }\n",
       "</style>\n",
       "<table border=\"1\" class=\"dataframe\">\n",
       "  <thead>\n",
       "    <tr style=\"text-align: right;\">\n",
       "      <th></th>\n",
       "      <th>Year</th>\n",
       "      <th>JAN</th>\n",
       "      <th>FEB</th>\n",
       "      <th>MAR</th>\n",
       "      <th>APR</th>\n",
       "      <th>MAY</th>\n",
       "      <th>JUN</th>\n",
       "      <th>JUL</th>\n",
       "      <th>AUG</th>\n",
       "      <th>SEP</th>\n",
       "      <th>OCT</th>\n",
       "      <th>NOV</th>\n",
       "      <th>DEC</th>\n",
       "      <th>YEAR TOTAL</th>\n",
       "    </tr>\n",
       "  </thead>\n",
       "  <tbody>\n",
       "    <tr>\n",
       "      <th>0</th>\n",
       "      <td>1900</td>\n",
       "      <td>0.4</td>\n",
       "      <td>1.06</td>\n",
       "      <td>0.75</td>\n",
       "      <td>9.18</td>\n",
       "      <td>1.84</td>\n",
       "      <td>0.49</td>\n",
       "      <td>0.48</td>\n",
       "      <td>0.22</td>\n",
       "      <td>1.54</td>\n",
       "      <td>0.13</td>\n",
       "      <td>0.19</td>\n",
       "      <td>0.61</td>\n",
       "      <td>16.89</td>\n",
       "    </tr>\n",
       "    <tr>\n",
       "      <th>1</th>\n",
       "      <td>1901</td>\n",
       "      <td>0.53</td>\n",
       "      <td>0.3</td>\n",
       "      <td>1.74</td>\n",
       "      <td>3.51</td>\n",
       "      <td>1.62</td>\n",
       "      <td>1.76</td>\n",
       "      <td>0.46</td>\n",
       "      <td>1.69</td>\n",
       "      <td>0.16</td>\n",
       "      <td>0.65</td>\n",
       "      <td>Tr</td>\n",
       "      <td>1.43</td>\n",
       "      <td>13.85</td>\n",
       "    </tr>\n",
       "    <tr>\n",
       "      <th>2</th>\n",
       "      <td>1902</td>\n",
       "      <td>0.37</td>\n",
       "      <td>0.48</td>\n",
       "      <td>1.48</td>\n",
       "      <td>1.01</td>\n",
       "      <td>2.32</td>\n",
       "      <td>1.46</td>\n",
       "      <td>1.26</td>\n",
       "      <td>0.53</td>\n",
       "      <td>5.46</td>\n",
       "      <td>1.44</td>\n",
       "      <td>1.29</td>\n",
       "      <td>1.34</td>\n",
       "      <td>18.44</td>\n",
       "    </tr>\n",
       "    <tr>\n",
       "      <th>3</th>\n",
       "      <td>1903</td>\n",
       "      <td>0.08</td>\n",
       "      <td>1.52</td>\n",
       "      <td>1.45</td>\n",
       "      <td>2.31</td>\n",
       "      <td>2.02</td>\n",
       "      <td>1.87</td>\n",
       "      <td>0.95</td>\n",
       "      <td>1.46</td>\n",
       "      <td>1.31</td>\n",
       "      <td>3.43</td>\n",
       "      <td>0.15</td>\n",
       "      <td>0.16</td>\n",
       "      <td>16.71</td>\n",
       "    </tr>\n",
       "    <tr>\n",
       "      <th>4</th>\n",
       "      <td>1904</td>\n",
       "      <td>0.09</td>\n",
       "      <td>0.31</td>\n",
       "      <td>2.37</td>\n",
       "      <td>1.45</td>\n",
       "      <td>5.35</td>\n",
       "      <td>2.72</td>\n",
       "      <td>1.05</td>\n",
       "      <td>1.00</td>\n",
       "      <td>1.6</td>\n",
       "      <td>1.06</td>\n",
       "      <td>0.08</td>\n",
       "      <td>0.7</td>\n",
       "      <td>17.78</td>\n",
       "    </tr>\n",
       "  </tbody>\n",
       "</table>\n",
       "</div>"
      ],
      "text/plain": [
       "   Year   JAN   FEB   MAR   APR   MAY   JUN   JUL   AUG   SEP   OCT   NOV  \\\n",
       "0  1900   0.4  1.06  0.75  9.18  1.84  0.49  0.48  0.22  1.54  0.13  0.19   \n",
       "1  1901  0.53   0.3  1.74  3.51  1.62  1.76  0.46  1.69  0.16  0.65    Tr   \n",
       "2  1902  0.37  0.48  1.48  1.01  2.32  1.46  1.26  0.53  5.46  1.44  1.29   \n",
       "3  1903  0.08  1.52  1.45  2.31  2.02  1.87  0.95  1.46  1.31  3.43  0.15   \n",
       "4  1904  0.09  0.31  2.37  1.45  5.35  2.72  1.05  1.00   1.6  1.06  0.08   \n",
       "\n",
       "    DEC YEAR TOTAL  \n",
       "0  0.61      16.89  \n",
       "1  1.43      13.85  \n",
       "2  1.34      18.44  \n",
       "3  0.16      16.71  \n",
       "4   0.7      17.78  "
      ]
     },
     "execution_count": 8,
     "metadata": {},
     "output_type": "execute_result"
    }
   ],
   "source": [
    "dfPrecip = pd.read_csv('BoulderPrecip.csv')\n",
    "dfPrecip.head()\n"
   ]
  },
  {
   "cell_type": "markdown",
   "metadata": {},
   "source": [
    "**Part A:** SCRUBBING!  Our data set is going to be tough to use for a few reasons.\n",
    "\n",
    "1) When the amount of precipitation was nonzero but too small to be recorded, this data set recorded `tr`.  Replace these with zeroes.\n",
    "\n",
    "2) 2020 isn't over yet!  We have one row at the bottom that isn't fully complete and NA values have been filled into the months that haven't happened yet.  This can wreak havoc on a lot of our methods!  Drop the 2020 data entirely.\n",
    "\n",
    "3) You may have some object typing issues relating to columns that contained both \"Tr\"/\"NA\" and numeric values.  Ensure that Python is treating all of your data as numeric!"
   ]
  },
  {
   "cell_type": "code",
   "execution_count": 9,
   "metadata": {},
   "outputs": [],
   "source": [
    "#Your code here\n",
    "dfnew = dfPrecip.replace('Tr',float(0)).drop(120).astype('float')\n"
   ]
  },
  {
   "cell_type": "markdown",
   "metadata": {},
   "source": [
    "**Part B:** Generate a series of 12 box plots with month as the x axis and precipitation on the y-axis."
   ]
  },
  {
   "cell_type": "code",
   "execution_count": 10,
   "metadata": {},
   "outputs": [
    {
     "data": {
      "image/png": "[encoded data removed]",
      "text/plain": [
       "<Figure size 648x432 with 1 Axes>"
      ]
     },
     "metadata": {},
     "output_type": "display_data"
    }
   ],
   "source": [
    "#Your code here\n",
    "fig = plt.figure(1, figsize=(9, 6))\n",
    "ax = fig.add_subplot(111)\n",
    "col = ['JAN', 'FEB', 'MAR', 'APR', 'MAY', 'JUN', 'JUL', 'AUG', 'SEP', 'OCT', 'NOV', 'DEC']\n",
    "dfnew.boxplot(column=col, ax=ax);\n"
   ]
  },
  {
   "cell_type": "markdown",
   "metadata": {},
   "source": [
    "\n",
    "**Part C:** Spring is the wet season in Boulder.   But what is Spring?\n",
    "\n",
    "Atmospheric scientists love to group months seasonally, breaking the year into a Winter season including December, January, February; a Spring including March, April, and May; and so forth.\n",
    "\n",
    "The solar year, however, says that Spring runs from near the end of March until near the end of June: let's round at the nearest month and say that it includes the months of April, May and June.\n",
    "\n",
    "Generate a box plot with precipitation on the y-axis and the two possible monthly 'Spring' groupings (March-May versus April-June) as the x-axis."
   ]
  },
  {
   "cell_type": "code",
   "execution_count": 11,
   "metadata": {},
   "outputs": [
    {
     "data": {
      "text/plain": [
       "<matplotlib.axes._subplots.AxesSubplot at 0x7ff17c6be6d8>"
      ]
     },
     "execution_count": 11,
     "metadata": {},
     "output_type": "execute_result"
    },
    {
     "data": {
      "image/png": "[encoded data removed]",
      "text/plain": [
       "<Figure size 648x432 with 1 Axes>"
      ]
     },
     "metadata": {},
     "output_type": "display_data"
    }
   ],
   "source": [
    "#Your code here\n",
    "dfnew[\"Spring Group 1\"] = dfnew['MAR'] + dfnew['APR'] + dfnew['MAY']\n",
    "dfnew[\"Spring Group 2\"] = dfnew['APR'] + dfnew['MAY'] + dfnew['JUN']\n",
    "fig = plt.figure(1, figsize=(9, 6))\n",
    "ax = fig.add_subplot(111)\n",
    "dfnew.boxplot(column = [\"Spring Group 1\",\"Spring Group 2\"])\n",
    "\n"
   ]
  },
  {
   "cell_type": "markdown",
   "metadata": {},
   "source": [
    "**Part D:** These might look pretty similar!  Highlight and comment on any differences by calculating the mean, standard deviation, and a Tukey five number summary of each classification of Spring.  Is there a reason here to favor one grouping over the other?"
   ]
  },
  {
   "cell_type": "code",
   "execution_count": 12,
   "metadata": {},
   "outputs": [
    {
     "name": "stdout",
     "output_type": "stream",
     "text": [
      "The mean of Spring Group 1 is 7.519000000000002\n",
      "The standard deviation of Spring Group 1 is 2.7373302948049845\n",
      "5-Number Summary: 2.21    5.60    7.10    9.17    16.75\n",
      "\n",
      "\n",
      "The mean of Spring Group 2 is 7.681916666666666\n",
      "The standard deviation of Spring Group 2 is 2.939851735766842\n",
      "5-Number Summary: 3.12    5.22    7.38    9.48    19.07\n"
     ]
    }
   ],
   "source": [
    "#Code here\n",
    "group1mean = dfnew[\"Spring Group 1\"].mean()\n",
    "group1std = dfnew[\"Spring Group 1\"].std()\n",
    "minval1 = dfnew[\"Spring Group 1\"].min()\n",
    "maxval1 = dfnew[\"Spring Group 1\"].max()\n",
    "Q11 = dfnew[\"Spring Group 1\"].quantile(.25) \n",
    "Q21 = dfnew[\"Spring Group 1\"].quantile(.5) \n",
    "Q31 = dfnew[\"Spring Group 1\"].quantile(.75) \n",
    "print(\"The mean of Spring Group 1 is \" + str(group1mean))\n",
    "print(\"The standard deviation of Spring Group 1 is \" + str(group1std))\n",
    "print(\"5-Number Summary: {:.2f}    {:.2f}    {:.2f}    {:.2f}    {:.2f}\".format(minval1, Q11, Q21, Q31, maxval1))\n",
    "\n",
    "print(\"\\n\")\n",
    "\n",
    "group1mean = dfnew[\"Spring Group 2\"].mean()\n",
    "group1std = dfnew[\"Spring Group 2\"].std()\n",
    "minval2 = dfnew[\"Spring Group 2\"].min()\n",
    "maxval2 = dfnew[\"Spring Group 2\"].max()\n",
    "Q12 = dfnew[\"Spring Group 2\"].quantile(.25) \n",
    "Q22 = dfnew[\"Spring Group 2\"].quantile(.5) \n",
    "Q32 = dfnew[\"Spring Group 2\"].quantile(.75) \n",
    "print(\"The mean of Spring Group 2 is \" + str(group1mean))\n",
    "print(\"The standard deviation of Spring Group 2 is \" + str(group1std))\n",
    "print(\"5-Number Summary: {:.2f}    {:.2f}    {:.2f}    {:.2f}    {:.2f}\".format(minval2, Q12, Q22, Q32, maxval2))"
   ]
  },
  {
   "cell_type": "markdown",
   "metadata": {},
   "source": [
    "**Typeset your analysis to part D in this cell or cells**\n",
    "\n",
    "SOL: I would choose the second grouping over the first because the data better proves that second grouping is the wet season aka Spring"
   ]
  },
  {
   "cell_type": "markdown",
   "metadata": {},
   "source": [
    "**Part E:** Create a density histogram of the September precipitation.  Classify and describe this histogram, including discussion of any skewness, multimodality, or outliers.  Find the data point associated with September, 2013, and recreate your histogram with that value in a different color or otherwise clearly marked."
   ]
  },
  {
   "cell_type": "code",
   "execution_count": 13,
   "metadata": {},
   "outputs": [
    {
     "data": {
      "image/png": "[encoded data removed]",
      "text/plain": [
       "<Figure size 576x288 with 1 Axes>"
      ]
     },
     "metadata": {},
     "output_type": "display_data"
    }
   ],
   "source": [
    "# September code here\n",
    "fig, ax = plt.subplots(figsize=(8,4))\n",
    "col = ['SEP']\n",
    "dfnew.hist(column=col, ax=ax);"
   ]
  },
  {
   "cell_type": "markdown",
   "metadata": {},
   "source": [
    "**Typeset your analysis for part E in this cell or cells**\n",
    "\n",
    "This histogram has positive skew. Also, it is unimodal, however, we have an outlier. "
   ]
  },
  {
   "cell_type": "code",
   "execution_count": null,
   "metadata": {},
   "outputs": [],
   "source": []
  }
 ],
 "metadata": {
  "kernelspec": {
   "display_name": "Python 3",
   "language": "python",
   "name": "python3"
  },
  "language_info": {
   "codemirror_mode": {
    "name": "ipython",
    "version": 3
   },
   "file_extension": ".py",
   "mimetype": "text/x-python",
   "name": "python",
   "nbconvert_exporter": "python",
   "pygments_lexer": "ipython3",
   "version": "3.6.8"
  }
 },
 "nbformat": 4,
 "nbformat_minor": 2
}
