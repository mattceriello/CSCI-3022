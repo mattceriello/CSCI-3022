{
 "cells": [
  {
   "cell_type": "code",
   "execution_count": 1,
   "metadata": {},
   "outputs": [
    {
     "name": "stdout",
     "output_type": "stream",
     "text": [
      "herllo\n"
     ]
    }
   ],
   "source": [
    "def merge(a,b):\n",
    "    n1 = len(a) + len(b)\n",
    "    c = [0] * n1\n",
    "    i = 1\n",
    "    j = 1\n",
    "    while i+j <= len(a) + len(b):\n",
    "        if i > len(A):\n",
    "            c[i+j-1] = b[j]\n",
    "            j += 1\n",
    "        else if j > len(b):\n",
    "            c[i+j-1] = a[i]\n",
    "            i += 1\n",
    "        else if a[i] < b[j]:\n",
    "            c[i+j-1] = a[i]\n",
    "            i += 1\n",
    "        else:\n",
    "            c[i+j-1] = b[j]\n",
    "            j += 1\n",
    "        return c\n",
    "\n",
    "def mergesort(A):\n",
    "    n = len(A)\n",
    "    if n <= 1:\n",
    "        return A\n",
    "    else:\n",
    "        \n",
    "        H1 = mergesort()\n",
    "        H2 = mergesort()\n",
    "        return merge(H1,H1)\n",
    "    \n",
    "    \n"
   ]
  },
  {
   "cell_type": "code",
   "execution_count": null,
   "metadata": {},
   "outputs": [],
   "source": []
  }
 ],
 "metadata": {
  "kernelspec": {
   "display_name": "Python 3",
   "language": "python",
   "name": "python3"
  },
  "language_info": {
   "codemirror_mode": {
    "name": "ipython",
    "version": 3
   },
   "file_extension": ".py",
   "mimetype": "text/x-python",
   "name": "python",
   "nbconvert_exporter": "python",
   "pygments_lexer": "ipython3",
   "version": "3.6.5"
  }
 },
 "nbformat": 4,
 "nbformat_minor": 2
}
